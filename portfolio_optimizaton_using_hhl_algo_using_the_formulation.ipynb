{
  "cells": [
    {
      "cell_type": "markdown",
      "metadata": {
        "id": "view-in-github",
        "colab_type": "text"
      },
      "source": [
        "<a href=\"https://colab.research.google.com/github/SchrodingersSangru/Arbitrary-HHL/blob/main/portfolio_optimizaton_using_hhl_algo_using_the_formulation.ipynb\" target=\"_parent\"><img src=\"https://colab.research.google.com/assets/colab-badge.svg\" alt=\"Open In Colab\"/></a>"
      ]
    },
    {
      "cell_type": "markdown",
      "metadata": {
        "id": "TLNfBqWeLAkj"
      },
      "source": [
        "## Portfolio optimization using HHL algorithm\n",
        "In this section, let us calculate the optimal portfolio (asset allocation) based on the data of past stock price fluctuations, referring to the paper [1].\n",
        "Portfolio optimization is one of the problems that is expected to be solved faster than before by using the HHL algorithm.\n",
        "Specifically, this notebook considers the problem of what kind of asset allocation will give the highest return with the lowest risk when investing in stocks of five Indian tech startups.\n",
        "This notebook is built upon the tutorial notebook at Qulacs' Github which is available [here]()."
      ]
    },
    {
      "cell_type": "markdown",
      "metadata": {
        "id": "CuJLjabZLAkk"
      },
      "source": [
        "### Stock Price Data Acquisition\n",
        "First, we obtain the stock price data of each company.\n",
        "\n",
        "* Use daily data of 5 Indian stocks\n",
        "* To obtain stock price data, use pandas_datareader to obtain from Yahoo! Finance database.\n",
        "* Adjusted closing price in INR is used for the stock price."
      ]
    },
    {
      "cell_type": "code",
      "execution_count": 19,
      "metadata": {
        "id": "H1zP-KNpLAkl",
        "colab": {
          "base_uri": "https://localhost:8080/"
        },
        "outputId": "4fba7ec9-5fe6-4be4-f4cc-7c9488ffa80a"
      },
      "outputs": [
        {
          "output_type": "stream",
          "name": "stdout",
          "text": [
            "Requirement already satisfied: pandas in /usr/local/lib/python3.10/dist-packages (1.5.3)\n",
            "Requirement already satisfied: pandas_datareader in /usr/local/lib/python3.10/dist-packages (0.10.0)\n",
            "Requirement already satisfied: python-dateutil>=2.8.1 in /usr/local/lib/python3.10/dist-packages (from pandas) (2.8.2)\n",
            "Requirement already satisfied: pytz>=2020.1 in /usr/local/lib/python3.10/dist-packages (from pandas) (2023.3)\n",
            "Requirement already satisfied: numpy>=1.21.0 in /usr/local/lib/python3.10/dist-packages (from pandas) (1.23.5)\n",
            "Requirement already satisfied: lxml in /usr/local/lib/python3.10/dist-packages (from pandas_datareader) (4.9.3)\n",
            "Requirement already satisfied: requests>=2.19.0 in /usr/local/lib/python3.10/dist-packages (from pandas_datareader) (2.31.0)\n",
            "Requirement already satisfied: six>=1.5 in /usr/local/lib/python3.10/dist-packages (from python-dateutil>=2.8.1->pandas) (1.16.0)\n",
            "Requirement already satisfied: charset-normalizer<4,>=2 in /usr/local/lib/python3.10/dist-packages (from requests>=2.19.0->pandas_datareader) (3.2.0)\n",
            "Requirement already satisfied: idna<4,>=2.5 in /usr/local/lib/python3.10/dist-packages (from requests>=2.19.0->pandas_datareader) (3.4)\n",
            "Requirement already satisfied: urllib3<3,>=1.21.1 in /usr/local/lib/python3.10/dist-packages (from requests>=2.19.0->pandas_datareader) (2.0.4)\n",
            "Requirement already satisfied: certifi>=2017.4.17 in /usr/local/lib/python3.10/dist-packages (from requests>=2.19.0->pandas_datareader) (2023.7.22)\n"
          ]
        }
      ],
      "source": [
        "# Install pandas, pandas_datareader required for data acquisition\n",
        "!pip install pandas pandas_datareader"
      ]
    },
    {
      "cell_type": "code",
      "execution_count": 20,
      "metadata": {
        "scrolled": true,
        "id": "ouqOQ0ukLAkl"
      },
      "outputs": [],
      "source": [
        "import numpy as np\n",
        "import pandas as pd\n",
        "import pandas_datareader.data as web\n",
        "import datetime\n",
        "import matplotlib.pyplot as plt"
      ]
    },
    {
      "cell_type": "code",
      "execution_count": 21,
      "metadata": {
        "colab": {
          "base_uri": "https://localhost:8080/",
          "height": 324
        },
        "id": "zAg5HetnLAkm",
        "outputId": "d0cafe7e-b78e-4cd7-d3d4-9ff20ce4ee81"
      },
      "outputs": [
        {
          "output_type": "stream",
          "name": "stdout",
          "text": [
            "[*********************100%%**********************]  1 of 1 completed\n",
            "[*********************100%%**********************]  1 of 1 completed\n",
            "[*********************100%%**********************]  1 of 1 completed\n",
            "[*********************100%%**********************]  1 of 1 completed\n",
            "[*********************100%%**********************]  1 of 1 completed\n"
          ]
        },
        {
          "output_type": "execute_result",
          "data": {
            "text/plain": [
              "             FINOPB.NS  CARTRADE.NS  ZOMATO.NS  EASEMYTRIP.NS  POLICYBZR.NS\n",
              "Date                                                                       \n",
              "2022-12-26  242.000000   463.549988  58.150002      54.650002    456.899994\n",
              "2022-12-27  254.649994   458.799988  58.950001      55.049999    465.049988\n",
              "2022-12-28  250.949997   467.000000  60.150002      55.250000    460.600006\n",
              "2022-12-29  253.750000   461.450012  60.849998      53.500000    453.899994\n",
              "2022-12-30  253.050003   468.649994  59.299999      52.700001    448.299988"
            ],
            "text/html": [
              "\n",
              "  <div id=\"df-0d15e577-4dbe-4fa1-8ced-9ad70806fbb0\" class=\"colab-df-container\">\n",
              "    <div>\n",
              "<style scoped>\n",
              "    .dataframe tbody tr th:only-of-type {\n",
              "        vertical-align: middle;\n",
              "    }\n",
              "\n",
              "    .dataframe tbody tr th {\n",
              "        vertical-align: top;\n",
              "    }\n",
              "\n",
              "    .dataframe thead th {\n",
              "        text-align: right;\n",
              "    }\n",
              "</style>\n",
              "<table border=\"1\" class=\"dataframe\">\n",
              "  <thead>\n",
              "    <tr style=\"text-align: right;\">\n",
              "      <th></th>\n",
              "      <th>FINOPB.NS</th>\n",
              "      <th>CARTRADE.NS</th>\n",
              "      <th>ZOMATO.NS</th>\n",
              "      <th>EASEMYTRIP.NS</th>\n",
              "      <th>POLICYBZR.NS</th>\n",
              "    </tr>\n",
              "    <tr>\n",
              "      <th>Date</th>\n",
              "      <th></th>\n",
              "      <th></th>\n",
              "      <th></th>\n",
              "      <th></th>\n",
              "      <th></th>\n",
              "    </tr>\n",
              "  </thead>\n",
              "  <tbody>\n",
              "    <tr>\n",
              "      <th>2022-12-26</th>\n",
              "      <td>242.000000</td>\n",
              "      <td>463.549988</td>\n",
              "      <td>58.150002</td>\n",
              "      <td>54.650002</td>\n",
              "      <td>456.899994</td>\n",
              "    </tr>\n",
              "    <tr>\n",
              "      <th>2022-12-27</th>\n",
              "      <td>254.649994</td>\n",
              "      <td>458.799988</td>\n",
              "      <td>58.950001</td>\n",
              "      <td>55.049999</td>\n",
              "      <td>465.049988</td>\n",
              "    </tr>\n",
              "    <tr>\n",
              "      <th>2022-12-28</th>\n",
              "      <td>250.949997</td>\n",
              "      <td>467.000000</td>\n",
              "      <td>60.150002</td>\n",
              "      <td>55.250000</td>\n",
              "      <td>460.600006</td>\n",
              "    </tr>\n",
              "    <tr>\n",
              "      <th>2022-12-29</th>\n",
              "      <td>253.750000</td>\n",
              "      <td>461.450012</td>\n",
              "      <td>60.849998</td>\n",
              "      <td>53.500000</td>\n",
              "      <td>453.899994</td>\n",
              "    </tr>\n",
              "    <tr>\n",
              "      <th>2022-12-30</th>\n",
              "      <td>253.050003</td>\n",
              "      <td>468.649994</td>\n",
              "      <td>59.299999</td>\n",
              "      <td>52.700001</td>\n",
              "      <td>448.299988</td>\n",
              "    </tr>\n",
              "  </tbody>\n",
              "</table>\n",
              "</div>\n",
              "    <div class=\"colab-df-buttons\">\n",
              "\n",
              "  <div class=\"colab-df-container\">\n",
              "    <button class=\"colab-df-convert\" onclick=\"convertToInteractive('df-0d15e577-4dbe-4fa1-8ced-9ad70806fbb0')\"\n",
              "            title=\"Convert this dataframe to an interactive table.\"\n",
              "            style=\"display:none;\">\n",
              "\n",
              "  <svg xmlns=\"http://www.w3.org/2000/svg\" height=\"24px\" viewBox=\"0 -960 960 960\">\n",
              "    <path d=\"M120-120v-720h720v720H120Zm60-500h600v-160H180v160Zm220 220h160v-160H400v160Zm0 220h160v-160H400v160ZM180-400h160v-160H180v160Zm440 0h160v-160H620v160ZM180-180h160v-160H180v160Zm440 0h160v-160H620v160Z\"/>\n",
              "  </svg>\n",
              "    </button>\n",
              "\n",
              "  <style>\n",
              "    .colab-df-container {\n",
              "      display:flex;\n",
              "      gap: 12px;\n",
              "    }\n",
              "\n",
              "    .colab-df-convert {\n",
              "      background-color: #E8F0FE;\n",
              "      border: none;\n",
              "      border-radius: 50%;\n",
              "      cursor: pointer;\n",
              "      display: none;\n",
              "      fill: #1967D2;\n",
              "      height: 32px;\n",
              "      padding: 0 0 0 0;\n",
              "      width: 32px;\n",
              "    }\n",
              "\n",
              "    .colab-df-convert:hover {\n",
              "      background-color: #E2EBFA;\n",
              "      box-shadow: 0px 1px 2px rgba(60, 64, 67, 0.3), 0px 1px 3px 1px rgba(60, 64, 67, 0.15);\n",
              "      fill: #174EA6;\n",
              "    }\n",
              "\n",
              "    .colab-df-buttons div {\n",
              "      margin-bottom: 4px;\n",
              "    }\n",
              "\n",
              "    [theme=dark] .colab-df-convert {\n",
              "      background-color: #3B4455;\n",
              "      fill: #D2E3FC;\n",
              "    }\n",
              "\n",
              "    [theme=dark] .colab-df-convert:hover {\n",
              "      background-color: #434B5C;\n",
              "      box-shadow: 0px 1px 3px 1px rgba(0, 0, 0, 0.15);\n",
              "      filter: drop-shadow(0px 1px 2px rgba(0, 0, 0, 0.3));\n",
              "      fill: #FFFFFF;\n",
              "    }\n",
              "  </style>\n",
              "\n",
              "    <script>\n",
              "      const buttonEl =\n",
              "        document.querySelector('#df-0d15e577-4dbe-4fa1-8ced-9ad70806fbb0 button.colab-df-convert');\n",
              "      buttonEl.style.display =\n",
              "        google.colab.kernel.accessAllowed ? 'block' : 'none';\n",
              "\n",
              "      async function convertToInteractive(key) {\n",
              "        const element = document.querySelector('#df-0d15e577-4dbe-4fa1-8ced-9ad70806fbb0');\n",
              "        const dataTable =\n",
              "          await google.colab.kernel.invokeFunction('convertToInteractive',\n",
              "                                                    [key], {});\n",
              "        if (!dataTable) return;\n",
              "\n",
              "        const docLinkHtml = 'Like what you see? Visit the ' +\n",
              "          '<a target=\"_blank\" href=https://colab.research.google.com/notebooks/data_table.ipynb>data table notebook</a>'\n",
              "          + ' to learn more about interactive tables.';\n",
              "        element.innerHTML = '';\n",
              "        dataTable['output_type'] = 'display_data';\n",
              "        await google.colab.output.renderOutput(dataTable, element);\n",
              "        const docLink = document.createElement('div');\n",
              "        docLink.innerHTML = docLinkHtml;\n",
              "        element.appendChild(docLink);\n",
              "      }\n",
              "    </script>\n",
              "  </div>\n",
              "\n",
              "\n",
              "<div id=\"df-b3693e1d-c7cd-47dd-b1ea-d29f0796da00\">\n",
              "  <button class=\"colab-df-quickchart\" onclick=\"quickchart('df-b3693e1d-c7cd-47dd-b1ea-d29f0796da00')\"\n",
              "            title=\"Suggest charts.\"\n",
              "            style=\"display:none;\">\n",
              "\n",
              "<svg xmlns=\"http://www.w3.org/2000/svg\" height=\"24px\"viewBox=\"0 0 24 24\"\n",
              "     width=\"24px\">\n",
              "    <g>\n",
              "        <path d=\"M19 3H5c-1.1 0-2 .9-2 2v14c0 1.1.9 2 2 2h14c1.1 0 2-.9 2-2V5c0-1.1-.9-2-2-2zM9 17H7v-7h2v7zm4 0h-2V7h2v10zm4 0h-2v-4h2v4z\"/>\n",
              "    </g>\n",
              "</svg>\n",
              "  </button>\n",
              "\n",
              "<style>\n",
              "  .colab-df-quickchart {\n",
              "    background-color: #E8F0FE;\n",
              "    border: none;\n",
              "    border-radius: 50%;\n",
              "    cursor: pointer;\n",
              "    display: none;\n",
              "    fill: #1967D2;\n",
              "    height: 32px;\n",
              "    padding: 0 0 0 0;\n",
              "    width: 32px;\n",
              "  }\n",
              "\n",
              "  .colab-df-quickchart:hover {\n",
              "    background-color: #E2EBFA;\n",
              "    box-shadow: 0px 1px 2px rgba(60, 64, 67, 0.3), 0px 1px 3px 1px rgba(60, 64, 67, 0.15);\n",
              "    fill: #174EA6;\n",
              "  }\n",
              "\n",
              "  [theme=dark] .colab-df-quickchart {\n",
              "    background-color: #3B4455;\n",
              "    fill: #D2E3FC;\n",
              "  }\n",
              "\n",
              "  [theme=dark] .colab-df-quickchart:hover {\n",
              "    background-color: #434B5C;\n",
              "    box-shadow: 0px 1px 3px 1px rgba(0, 0, 0, 0.15);\n",
              "    filter: drop-shadow(0px 1px 2px rgba(0, 0, 0, 0.3));\n",
              "    fill: #FFFFFF;\n",
              "  }\n",
              "</style>\n",
              "\n",
              "  <script>\n",
              "    async function quickchart(key) {\n",
              "      const charts = await google.colab.kernel.invokeFunction(\n",
              "          'suggestCharts', [key], {});\n",
              "    }\n",
              "    (() => {\n",
              "      let quickchartButtonEl =\n",
              "        document.querySelector('#df-b3693e1d-c7cd-47dd-b1ea-d29f0796da00 button');\n",
              "      quickchartButtonEl.style.display =\n",
              "        google.colab.kernel.accessAllowed ? 'block' : 'none';\n",
              "    })();\n",
              "  </script>\n",
              "</div>\n",
              "    </div>\n",
              "  </div>\n"
            ]
          },
          "metadata": {},
          "execution_count": 21
        }
      ],
      "source": [
        "import yfinance as yf\n",
        "import pandas as pd\n",
        "\n",
        "# Issue Selection\n",
        "codes = ['FINOPB.NS', 'CARTRADE.NS', 'ZOMATO.NS', 'EASEMYTRIP.NS', 'POLICYBZR.NS'] # Five Indian stocks\n",
        "\n",
        "# Using one year of data from 2022\n",
        "start = \"2022-01-01\"\n",
        "end = \"2022-12-31\"\n",
        "\n",
        "# Create an empty DataFrame\n",
        "df = pd.DataFrame()\n",
        "\n",
        "# Loop over the stock symbols\n",
        "for code in codes:\n",
        "    # Fetch the historical stock price data\n",
        "    data = yf.download(code, start=start, end=end)\n",
        "    # Store the adjusted closing prices in the DataFrame\n",
        "    df[code] = data['Adj Close']\n",
        "\n",
        "\n",
        "# Display the most recent data\n",
        "df.tail()\n"
      ]
    },
    {
      "cell_type": "code",
      "execution_count": 22,
      "metadata": {
        "scrolled": true,
        "id": "dUfkpoL_LAkm",
        "colab": {
          "base_uri": "https://localhost:8080/",
          "height": 446
        },
        "outputId": "4516c423-066a-49f2-d787-65b6816e5904"
      },
      "outputs": [
        {
          "output_type": "display_data",
          "data": {
            "text/plain": [
              "<Figure size 1500x600 with 1 Axes>"
            ],
            "image/png": "[encoded data removed]"
          },
          "metadata": {}
        }
      ],
      "source": [
        "import matplotlib.pyplot as plt\n",
        "\n",
        "# Plot the stock price\n",
        "fig, axes = plt.subplots(nrows=1, ncols=1, figsize=(15, 6))\n",
        "df.loc[:,['FINOPB.NS', 'CARTRADE.NS', 'ZOMATO.NS', 'EASEMYTRIP.NS', 'POLICYBZR.NS']].plot(ax=axes)\n",
        "plt.show()"
      ]
    },
    {
      "cell_type": "markdown",
      "metadata": {
        "id": "4XutqKdFLAkn"
      },
      "source": [
        "### Data Preprocessing\n",
        "Next, the acquired stock prices are converted to daily returns to obtain some statistics.\n",
        "\n",
        "#### Conversion to Daily Returns\n",
        "The daily return (rate of change) $y_t$ (where $t$ is the date) of an individual stock is defined as follows\n",
        "\n",
        "$$\n",
        "y_t = \\frac{P_t - P_{t-1}}{P_{t-1}}\n",
        "$$\n",
        "\n",
        "This is obtained with the `pct_change()` method of the `pandas DataFrame`."
      ]
    },
    {
      "cell_type": "code",
      "execution_count": 23,
      "metadata": {
        "id": "yRMVkxSVLAkn",
        "outputId": "eacb0f06-e4de-4614-9f94-54c1be539e8e",
        "colab": {
          "base_uri": "https://localhost:8080/",
          "height": 238
        }
      },
      "outputs": [
        {
          "output_type": "display_data",
          "data": {
            "text/plain": [
              "            FINOPB.NS  CARTRADE.NS  ZOMATO.NS  EASEMYTRIP.NS  POLICYBZR.NS\n",
              "Date                                                                      \n",
              "2022-12-26   0.040860     0.038302   0.083877       0.199781      0.040064\n",
              "2022-12-27   0.052273    -0.010247   0.013758       0.007319      0.017838\n",
              "2022-12-28  -0.014530     0.017873   0.020356       0.003633     -0.009569\n",
              "2022-12-29   0.011158    -0.011884   0.011638      -0.031674     -0.014546\n",
              "2022-12-30  -0.002759     0.015603  -0.025472      -0.014953     -0.012338"
            ],
            "text/html": [
              "\n",
              "  <div id=\"df-871f6c39-cd5b-4469-8a67-c52fb00536c2\" class=\"colab-df-container\">\n",
              "    <div>\n",
              "<style scoped>\n",
              "    .dataframe tbody tr th:only-of-type {\n",
              "        vertical-align: middle;\n",
              "    }\n",
              "\n",
              "    .dataframe tbody tr th {\n",
              "        vertical-align: top;\n",
              "    }\n",
              "\n",
              "    .dataframe thead th {\n",
              "        text-align: right;\n",
              "    }\n",
              "</style>\n",
              "<table border=\"1\" class=\"dataframe\">\n",
              "  <thead>\n",
              "    <tr style=\"text-align: right;\">\n",
              "      <th></th>\n",
              "      <th>FINOPB.NS</th>\n",
              "      <th>CARTRADE.NS</th>\n",
              "      <th>ZOMATO.NS</th>\n",
              "      <th>EASEMYTRIP.NS</th>\n",
              "      <th>POLICYBZR.NS</th>\n",
              "    </tr>\n",
              "    <tr>\n",
              "      <th>Date</th>\n",
              "      <th></th>\n",
              "      <th></th>\n",
              "      <th></th>\n",
              "      <th></th>\n",
              "      <th></th>\n",
              "    </tr>\n",
              "  </thead>\n",
              "  <tbody>\n",
              "    <tr>\n",
              "      <th>2022-12-26</th>\n",
              "      <td>0.040860</td>\n",
              "      <td>0.038302</td>\n",
              "      <td>0.083877</td>\n",
              "      <td>0.199781</td>\n",
              "      <td>0.040064</td>\n",
              "    </tr>\n",
              "    <tr>\n",
              "      <th>2022-12-27</th>\n",
              "      <td>0.052273</td>\n",
              "      <td>-0.010247</td>\n",
              "      <td>0.013758</td>\n",
              "      <td>0.007319</td>\n",
              "      <td>0.017838</td>\n",
              "    </tr>\n",
              "    <tr>\n",
              "      <th>2022-12-28</th>\n",
              "      <td>-0.014530</td>\n",
              "      <td>0.017873</td>\n",
              "      <td>0.020356</td>\n",
              "      <td>0.003633</td>\n",
              "      <td>-0.009569</td>\n",
              "    </tr>\n",
              "    <tr>\n",
              "      <th>2022-12-29</th>\n",
              "      <td>0.011158</td>\n",
              "      <td>-0.011884</td>\n",
              "      <td>0.011638</td>\n",
              "      <td>-0.031674</td>\n",
              "      <td>-0.014546</td>\n",
              "    </tr>\n",
              "    <tr>\n",
              "      <th>2022-12-30</th>\n",
              "      <td>-0.002759</td>\n",
              "      <td>0.015603</td>\n",
              "      <td>-0.025472</td>\n",
              "      <td>-0.014953</td>\n",
              "      <td>-0.012338</td>\n",
              "    </tr>\n",
              "  </tbody>\n",
              "</table>\n",
              "</div>\n",
              "    <div class=\"colab-df-buttons\">\n",
              "\n",
              "  <div class=\"colab-df-container\">\n",
              "    <button class=\"colab-df-convert\" onclick=\"convertToInteractive('df-871f6c39-cd5b-4469-8a67-c52fb00536c2')\"\n",
              "            title=\"Convert this dataframe to an interactive table.\"\n",
              "            style=\"display:none;\">\n",
              "\n",
              "  <svg xmlns=\"http://www.w3.org/2000/svg\" height=\"24px\" viewBox=\"0 -960 960 960\">\n",
              "    <path d=\"M120-120v-720h720v720H120Zm60-500h600v-160H180v160Zm220 220h160v-160H400v160Zm0 220h160v-160H400v160ZM180-400h160v-160H180v160Zm440 0h160v-160H620v160ZM180-180h160v-160H180v160Zm440 0h160v-160H620v160Z\"/>\n",
              "  </svg>\n",
              "    </button>\n",
              "\n",
              "  <style>\n",
              "    .colab-df-container {\n",
              "      display:flex;\n",
              "      gap: 12px;\n",
              "    }\n",
              "\n",
              "    .colab-df-convert {\n",
              "      background-color: #E8F0FE;\n",
              "      border: none;\n",
              "      border-radius: 50%;\n",
              "      cursor: pointer;\n",
              "      display: none;\n",
              "      fill: #1967D2;\n",
              "      height: 32px;\n",
              "      padding: 0 0 0 0;\n",
              "      width: 32px;\n",
              "    }\n",
              "\n",
              "    .colab-df-convert:hover {\n",
              "      background-color: #E2EBFA;\n",
              "      box-shadow: 0px 1px 2px rgba(60, 64, 67, 0.3), 0px 1px 3px 1px rgba(60, 64, 67, 0.15);\n",
              "      fill: #174EA6;\n",
              "    }\n",
              "\n",
              "    .colab-df-buttons div {\n",
              "      margin-bottom: 4px;\n",
              "    }\n",
              "\n",
              "    [theme=dark] .colab-df-convert {\n",
              "      background-color: #3B4455;\n",
              "      fill: #D2E3FC;\n",
              "    }\n",
              "\n",
              "    [theme=dark] .colab-df-convert:hover {\n",
              "      background-color: #434B5C;\n",
              "      box-shadow: 0px 1px 3px 1px rgba(0, 0, 0, 0.15);\n",
              "      filter: drop-shadow(0px 1px 2px rgba(0, 0, 0, 0.3));\n",
              "      fill: #FFFFFF;\n",
              "    }\n",
              "  </style>\n",
              "\n",
              "    <script>\n",
              "      const buttonEl =\n",
              "        document.querySelector('#df-871f6c39-cd5b-4469-8a67-c52fb00536c2 button.colab-df-convert');\n",
              "      buttonEl.style.display =\n",
              "        google.colab.kernel.accessAllowed ? 'block' : 'none';\n",
              "\n",
              "      async function convertToInteractive(key) {\n",
              "        const element = document.querySelector('#df-871f6c39-cd5b-4469-8a67-c52fb00536c2');\n",
              "        const dataTable =\n",
              "          await google.colab.kernel.invokeFunction('convertToInteractive',\n",
              "                                                    [key], {});\n",
              "        if (!dataTable) return;\n",
              "\n",
              "        const docLinkHtml = 'Like what you see? Visit the ' +\n",
              "          '<a target=\"_blank\" href=https://colab.research.google.com/notebooks/data_table.ipynb>data table notebook</a>'\n",
              "          + ' to learn more about interactive tables.';\n",
              "        element.innerHTML = '';\n",
              "        dataTable['output_type'] = 'display_data';\n",
              "        await google.colab.output.renderOutput(dataTable, element);\n",
              "        const docLink = document.createElement('div');\n",
              "        docLink.innerHTML = docLinkHtml;\n",
              "        element.appendChild(docLink);\n",
              "      }\n",
              "    </script>\n",
              "  </div>\n",
              "\n",
              "\n",
              "<div id=\"df-a75b349d-bc51-4556-b226-29a34049baa1\">\n",
              "  <button class=\"colab-df-quickchart\" onclick=\"quickchart('df-a75b349d-bc51-4556-b226-29a34049baa1')\"\n",
              "            title=\"Suggest charts.\"\n",
              "            style=\"display:none;\">\n",
              "\n",
              "<svg xmlns=\"http://www.w3.org/2000/svg\" height=\"24px\"viewBox=\"0 0 24 24\"\n",
              "     width=\"24px\">\n",
              "    <g>\n",
              "        <path d=\"M19 3H5c-1.1 0-2 .9-2 2v14c0 1.1.9 2 2 2h14c1.1 0 2-.9 2-2V5c0-1.1-.9-2-2-2zM9 17H7v-7h2v7zm4 0h-2V7h2v10zm4 0h-2v-4h2v4z\"/>\n",
              "    </g>\n",
              "</svg>\n",
              "  </button>\n",
              "\n",
              "<style>\n",
              "  .colab-df-quickchart {\n",
              "    background-color: #E8F0FE;\n",
              "    border: none;\n",
              "    border-radius: 50%;\n",
              "    cursor: pointer;\n",
              "    display: none;\n",
              "    fill: #1967D2;\n",
              "    height: 32px;\n",
              "    padding: 0 0 0 0;\n",
              "    width: 32px;\n",
              "  }\n",
              "\n",
              "  .colab-df-quickchart:hover {\n",
              "    background-color: #E2EBFA;\n",
              "    box-shadow: 0px 1px 2px rgba(60, 64, 67, 0.3), 0px 1px 3px 1px rgba(60, 64, 67, 0.15);\n",
              "    fill: #174EA6;\n",
              "  }\n",
              "\n",
              "  [theme=dark] .colab-df-quickchart {\n",
              "    background-color: #3B4455;\n",
              "    fill: #D2E3FC;\n",
              "  }\n",
              "\n",
              "  [theme=dark] .colab-df-quickchart:hover {\n",
              "    background-color: #434B5C;\n",
              "    box-shadow: 0px 1px 3px 1px rgba(0, 0, 0, 0.15);\n",
              "    filter: drop-shadow(0px 1px 2px rgba(0, 0, 0, 0.3));\n",
              "    fill: #FFFFFF;\n",
              "  }\n",
              "</style>\n",
              "\n",
              "  <script>\n",
              "    async function quickchart(key) {\n",
              "      const charts = await google.colab.kernel.invokeFunction(\n",
              "          'suggestCharts', [key], {});\n",
              "    }\n",
              "    (() => {\n",
              "      let quickchartButtonEl =\n",
              "        document.querySelector('#df-a75b349d-bc51-4556-b226-29a34049baa1 button');\n",
              "      quickchartButtonEl.style.display =\n",
              "        google.colab.kernel.accessAllowed ? 'block' : 'none';\n",
              "    })();\n",
              "  </script>\n",
              "</div>\n",
              "    </div>\n",
              "  </div>\n"
            ]
          },
          "metadata": {}
        }
      ],
      "source": [
        "daily_return = df.pct_change()\n",
        "display(daily_return.tail())"
      ]
    },
    {
      "cell_type": "code",
      "source": [
        "df.info()"
      ],
      "metadata": {
        "colab": {
          "base_uri": "https://localhost:8080/"
        },
        "id": "-vow_fLADm_d",
        "outputId": "04bfe532-5cee-4c12-b80a-2d0249b60f70"
      },
      "execution_count": 24,
      "outputs": [
        {
          "output_type": "stream",
          "name": "stdout",
          "text": [
            "<class 'pandas.core.frame.DataFrame'>\n",
            "DatetimeIndex: 248 entries, 2022-01-03 to 2022-12-30\n",
            "Data columns (total 5 columns):\n",
            " #   Column         Non-Null Count  Dtype  \n",
            "---  ------         --------------  -----  \n",
            " 0   FINOPB.NS      248 non-null    float64\n",
            " 1   CARTRADE.NS    248 non-null    float64\n",
            " 2   ZOMATO.NS      248 non-null    float64\n",
            " 3   EASEMYTRIP.NS  248 non-null    float64\n",
            " 4   POLICYBZR.NS   248 non-null    float64\n",
            "dtypes: float64(5)\n",
            "memory usage: 11.6 KB\n"
          ]
        }
      ]
    },
    {
      "cell_type": "markdown",
      "metadata": {
        "id": "RbJx_ux2LAkn"
      },
      "source": [
        "#### Expected Returns\n",
        "Find the expected return $\\vec R$ for each stock. Here we use the arithmetic mean of the historical returns:\n",
        "\n",
        "$$\n",
        "\\vec R = \\frac{1}{T} \\sum_{t= 1}^{T} \\vec y_t\n",
        "$$"
      ]
    },
    {
      "cell_type": "code",
      "execution_count": 25,
      "metadata": {
        "id": "8B4PmFprLAkn",
        "outputId": "c7803909-9658-40fb-cd73-815ad547755e",
        "colab": {
          "base_uri": "https://localhost:8080/"
        }
      },
      "outputs": [
        {
          "output_type": "stream",
          "name": "stdout",
          "text": [
            "FINOPB.NS       -0.298387\n",
            "CARTRADE.NS     -0.485177\n",
            "ZOMATO.NS       -0.658962\n",
            "EASEMYTRIP.NS    0.636052\n",
            "POLICYBZR.NS    -0.601463\n",
            "dtype: float64\n"
          ]
        }
      ],
      "source": [
        "expected_return = daily_return.dropna(how='all').mean() * 252 # Multiply by 252 annual operating days for annualization\n",
        "print(expected_return)"
      ]
    },
    {
      "cell_type": "markdown",
      "metadata": {
        "id": "2-6xSXVTLAkn"
      },
      "source": [
        "#### Variance/Covariance Matrix\n",
        "The sample unbiased variance/covariance matrix $\\Sigma$ of the returns is defined by\n",
        "\n",
        "$$\n",
        "\\Sigma = \\frac{1}{T-1} \\sum_{t=1}^{T} ( \\vec y_t -\\vec R ) (\\vec y_t -\\vec R )^T\n",
        "$$"
      ]
    },
    {
      "cell_type": "code",
      "execution_count": 26,
      "metadata": {
        "id": "isbqrZggLAko",
        "outputId": "c0e012d7-3c9a-4ab6-8366-d837b3b63d5e",
        "colab": {
          "base_uri": "https://localhost:8080/",
          "height": 206
        }
      },
      "outputs": [
        {
          "output_type": "display_data",
          "data": {
            "text/plain": [
              "               FINOPB.NS  CARTRADE.NS  ZOMATO.NS  EASEMYTRIP.NS  POLICYBZR.NS\n",
              "FINOPB.NS       0.247652     0.062317   0.052448       0.064117      0.043996\n",
              "CARTRADE.NS     0.062317     0.209135   0.087491       0.080923      0.072094\n",
              "ZOMATO.NS       0.052448     0.087491   0.453537       0.092713      0.184897\n",
              "EASEMYTRIP.NS   0.064117     0.080923   0.092713       0.371751      0.086758\n",
              "POLICYBZR.NS    0.043996     0.072094   0.184897       0.086758      0.338086"
            ],
            "text/html": [
              "\n",
              "  <div id=\"df-751dc979-2e9d-449c-b2e7-f04d054500b9\" class=\"colab-df-container\">\n",
              "    <div>\n",
              "<style scoped>\n",
              "    .dataframe tbody tr th:only-of-type {\n",
              "        vertical-align: middle;\n",
              "    }\n",
              "\n",
              "    .dataframe tbody tr th {\n",
              "        vertical-align: top;\n",
              "    }\n",
              "\n",
              "    .dataframe thead th {\n",
              "        text-align: right;\n",
              "    }\n",
              "</style>\n",
              "<table border=\"1\" class=\"dataframe\">\n",
              "  <thead>\n",
              "    <tr style=\"text-align: right;\">\n",
              "      <th></th>\n",
              "      <th>FINOPB.NS</th>\n",
              "      <th>CARTRADE.NS</th>\n",
              "      <th>ZOMATO.NS</th>\n",
              "      <th>EASEMYTRIP.NS</th>\n",
              "      <th>POLICYBZR.NS</th>\n",
              "    </tr>\n",
              "  </thead>\n",
              "  <tbody>\n",
              "    <tr>\n",
              "      <th>FINOPB.NS</th>\n",
              "      <td>0.247652</td>\n",
              "      <td>0.062317</td>\n",
              "      <td>0.052448</td>\n",
              "      <td>0.064117</td>\n",
              "      <td>0.043996</td>\n",
              "    </tr>\n",
              "    <tr>\n",
              "      <th>CARTRADE.NS</th>\n",
              "      <td>0.062317</td>\n",
              "      <td>0.209135</td>\n",
              "      <td>0.087491</td>\n",
              "      <td>0.080923</td>\n",
              "      <td>0.072094</td>\n",
              "    </tr>\n",
              "    <tr>\n",
              "      <th>ZOMATO.NS</th>\n",
              "      <td>0.052448</td>\n",
              "      <td>0.087491</td>\n",
              "      <td>0.453537</td>\n",
              "      <td>0.092713</td>\n",
              "      <td>0.184897</td>\n",
              "    </tr>\n",
              "    <tr>\n",
              "      <th>EASEMYTRIP.NS</th>\n",
              "      <td>0.064117</td>\n",
              "      <td>0.080923</td>\n",
              "      <td>0.092713</td>\n",
              "      <td>0.371751</td>\n",
              "      <td>0.086758</td>\n",
              "    </tr>\n",
              "    <tr>\n",
              "      <th>POLICYBZR.NS</th>\n",
              "      <td>0.043996</td>\n",
              "      <td>0.072094</td>\n",
              "      <td>0.184897</td>\n",
              "      <td>0.086758</td>\n",
              "      <td>0.338086</td>\n",
              "    </tr>\n",
              "  </tbody>\n",
              "</table>\n",
              "</div>\n",
              "    <div class=\"colab-df-buttons\">\n",
              "\n",
              "  <div class=\"colab-df-container\">\n",
              "    <button class=\"colab-df-convert\" onclick=\"convertToInteractive('df-751dc979-2e9d-449c-b2e7-f04d054500b9')\"\n",
              "            title=\"Convert this dataframe to an interactive table.\"\n",
              "            style=\"display:none;\">\n",
              "\n",
              "  <svg xmlns=\"http://www.w3.org/2000/svg\" height=\"24px\" viewBox=\"0 -960 960 960\">\n",
              "    <path d=\"M120-120v-720h720v720H120Zm60-500h600v-160H180v160Zm220 220h160v-160H400v160Zm0 220h160v-160H400v160ZM180-400h160v-160H180v160Zm440 0h160v-160H620v160ZM180-180h160v-160H180v160Zm440 0h160v-160H620v160Z\"/>\n",
              "  </svg>\n",
              "    </button>\n",
              "\n",
              "  <style>\n",
              "    .colab-df-container {\n",
              "      display:flex;\n",
              "      gap: 12px;\n",
              "    }\n",
              "\n",
              "    .colab-df-convert {\n",
              "      background-color: #E8F0FE;\n",
              "      border: none;\n",
              "      border-radius: 50%;\n",
              "      cursor: pointer;\n",
              "      display: none;\n",
              "      fill: #1967D2;\n",
              "      height: 32px;\n",
              "      padding: 0 0 0 0;\n",
              "      width: 32px;\n",
              "    }\n",
              "\n",
              "    .colab-df-convert:hover {\n",
              "      background-color: #E2EBFA;\n",
              "      box-shadow: 0px 1px 2px rgba(60, 64, 67, 0.3), 0px 1px 3px 1px rgba(60, 64, 67, 0.15);\n",
              "      fill: #174EA6;\n",
              "    }\n",
              "\n",
              "    .colab-df-buttons div {\n",
              "      margin-bottom: 4px;\n",
              "    }\n",
              "\n",
              "    [theme=dark] .colab-df-convert {\n",
              "      background-color: #3B4455;\n",
              "      fill: #D2E3FC;\n",
              "    }\n",
              "\n",
              "    [theme=dark] .colab-df-convert:hover {\n",
              "      background-color: #434B5C;\n",
              "      box-shadow: 0px 1px 3px 1px rgba(0, 0, 0, 0.15);\n",
              "      filter: drop-shadow(0px 1px 2px rgba(0, 0, 0, 0.3));\n",
              "      fill: #FFFFFF;\n",
              "    }\n",
              "  </style>\n",
              "\n",
              "    <script>\n",
              "      const buttonEl =\n",
              "        document.querySelector('#df-751dc979-2e9d-449c-b2e7-f04d054500b9 button.colab-df-convert');\n",
              "      buttonEl.style.display =\n",
              "        google.colab.kernel.accessAllowed ? 'block' : 'none';\n",
              "\n",
              "      async function convertToInteractive(key) {\n",
              "        const element = document.querySelector('#df-751dc979-2e9d-449c-b2e7-f04d054500b9');\n",
              "        const dataTable =\n",
              "          await google.colab.kernel.invokeFunction('convertToInteractive',\n",
              "                                                    [key], {});\n",
              "        if (!dataTable) return;\n",
              "\n",
              "        const docLinkHtml = 'Like what you see? Visit the ' +\n",
              "          '<a target=\"_blank\" href=https://colab.research.google.com/notebooks/data_table.ipynb>data table notebook</a>'\n",
              "          + ' to learn more about interactive tables.';\n",
              "        element.innerHTML = '';\n",
              "        dataTable['output_type'] = 'display_data';\n",
              "        await google.colab.output.renderOutput(dataTable, element);\n",
              "        const docLink = document.createElement('div');\n",
              "        docLink.innerHTML = docLinkHtml;\n",
              "        element.appendChild(docLink);\n",
              "      }\n",
              "    </script>\n",
              "  </div>\n",
              "\n",
              "\n",
              "<div id=\"df-8dcf5804-1005-4b49-a194-d74ef126e107\">\n",
              "  <button class=\"colab-df-quickchart\" onclick=\"quickchart('df-8dcf5804-1005-4b49-a194-d74ef126e107')\"\n",
              "            title=\"Suggest charts.\"\n",
              "            style=\"display:none;\">\n",
              "\n",
              "<svg xmlns=\"http://www.w3.org/2000/svg\" height=\"24px\"viewBox=\"0 0 24 24\"\n",
              "     width=\"24px\">\n",
              "    <g>\n",
              "        <path d=\"M19 3H5c-1.1 0-2 .9-2 2v14c0 1.1.9 2 2 2h14c1.1 0 2-.9 2-2V5c0-1.1-.9-2-2-2zM9 17H7v-7h2v7zm4 0h-2V7h2v10zm4 0h-2v-4h2v4z\"/>\n",
              "    </g>\n",
              "</svg>\n",
              "  </button>\n",
              "\n",
              "<style>\n",
              "  .colab-df-quickchart {\n",
              "    background-color: #E8F0FE;\n",
              "    border: none;\n",
              "    border-radius: 50%;\n",
              "    cursor: pointer;\n",
              "    display: none;\n",
              "    fill: #1967D2;\n",
              "    height: 32px;\n",
              "    padding: 0 0 0 0;\n",
              "    width: 32px;\n",
              "  }\n",
              "\n",
              "  .colab-df-quickchart:hover {\n",
              "    background-color: #E2EBFA;\n",
              "    box-shadow: 0px 1px 2px rgba(60, 64, 67, 0.3), 0px 1px 3px 1px rgba(60, 64, 67, 0.15);\n",
              "    fill: #174EA6;\n",
              "  }\n",
              "\n",
              "  [theme=dark] .colab-df-quickchart {\n",
              "    background-color: #3B4455;\n",
              "    fill: #D2E3FC;\n",
              "  }\n",
              "\n",
              "  [theme=dark] .colab-df-quickchart:hover {\n",
              "    background-color: #434B5C;\n",
              "    box-shadow: 0px 1px 3px 1px rgba(0, 0, 0, 0.15);\n",
              "    filter: drop-shadow(0px 1px 2px rgba(0, 0, 0, 0.3));\n",
              "    fill: #FFFFFF;\n",
              "  }\n",
              "</style>\n",
              "\n",
              "  <script>\n",
              "    async function quickchart(key) {\n",
              "      const charts = await google.colab.kernel.invokeFunction(\n",
              "          'suggestCharts', [key], {});\n",
              "    }\n",
              "    (() => {\n",
              "      let quickchartButtonEl =\n",
              "        document.querySelector('#df-8dcf5804-1005-4b49-a194-d74ef126e107 button');\n",
              "      quickchartButtonEl.style.display =\n",
              "        google.colab.kernel.accessAllowed ? 'block' : 'none';\n",
              "    })();\n",
              "  </script>\n",
              "</div>\n",
              "    </div>\n",
              "  </div>\n"
            ]
          },
          "metadata": {}
        }
      ],
      "source": [
        "cov = daily_return.dropna(how='all').cov() * 252 # For annualized basis\n",
        "display(cov)"
      ]
    },
    {
      "cell_type": "markdown",
      "metadata": {
        "id": "q7hfCWYpLAko"
      },
      "source": [
        "### Portfolio Optimization\n",
        "Now that we are ready, let's tackle portfolio optimization.\n",
        "\n",
        "First, the portfolio (i.e., asset allocation) is represented by a 4-component vector $\\vec{w} = (w_0,w_1,w_2,w_3)^T$.\n",
        "For example, if $\\vec{w}=(1,0,0,0)$, it means a portfolio with 100% of its assets invested in Google stock.\n",
        "\n",
        "Let us consider a portfolio that satisfies the following equation.\n",
        "\n",
        "$$\n",
        "\\min_{\\vec{w}} \\frac{1}{2} \\vec{w}^T \\Sigma \\vec{w} \\:\\:\\: \\text{s.t.} \\:\\: \\vec R^T \\vec w = \\mu , \\: \\vec 1^T \\vec w =1\n",
        "$$\n",
        "\n",
        "This formula means\n",
        "\n",
        "* \"minimizing the variance of the portfolio's return\"\n",
        "\n",
        "under the following condition\n",
        "\n",
        "* \"The expected return (average of returns) of the portfolio is $\\mu$\"\n",
        "* \"the sum of the weights invested in the portfolio is 1\" ($\\vec 1 = (1,1,1,1)^T$)\n",
        "\n",
        "In other words, the best portfolio is the one that minimizes the variance (risk) of the desired future return of only $\\mu$ as much as possible. Such a problem setup is called [Markowitz's mean-variance approach](https://en.wikipedia.org/wiki/Modern_portfolio_theory) and is one of the foundational ideas of modern financial engineering.\n",
        "\n",
        "Using Lagrange's undetermined multiplier method, $\\vec{w}$ satisfying the above conditions can be obtained by solving the linear equation\n",
        "\n",
        "$$\n",
        "\\begin{gather}\n",
        "W\n",
        "\\left(\n",
        "\\begin{array}{c}\n",
        "\\eta \\\\\n",
        "\\theta \\\\\n",
        "\\vec w\n",
        "\\end{array}\n",
        "\\right)\n",
        "=\n",
        "\\left(\n",
        "\\begin{array}{c}\n",
        " \\mu \\\\\n",
        " 1 \\\\\n",
        "\\vec 0\n",
        "\\end{array}\n",
        "\\right),  \\tag{1}\\\\\n",
        "W =\n",
        "\\left(\n",
        "\\begin{array}{ccc}\n",
        "0 & 0 & \\vec R^T \\\\\n",
        "0 & 0 & \\vec 1^T \\\\\n",
        "\\vec{R} &\\vec 1 & \\Sigma\n",
        "\\end{array}\n",
        "\\right)\n",
        "\\end{gather}\n",
        "$$\n",
        "\n",
        "where $\\eta, \\theta$ are the parameters of Lagrange's undetermined multiplier method.\n",
        "Therefore, to find the optimal portfolio $\\vec w$, we can solve the simultaneous equation (1) for $\\vec w$.\n",
        "We have now attributed the portfolio optimization problem to a linear equation for which the HHL algorithm can be used.\n",
        "\n",
        "#### Creating the matrix W"
      ]
    },
    {
      "cell_type": "code",
      "execution_count": 27,
      "metadata": {
        "id": "EI4cNRBiLAko",
        "outputId": "6a4d402a-afab-4f46-c007-de5e1316eb59",
        "colab": {
          "base_uri": "https://localhost:8080/"
        }
      },
      "outputs": [
        {
          "output_type": "stream",
          "name": "stdout",
          "text": [
            "[[ 0.          0.         -0.29838734 -0.48517697 -0.65896155  0.63605219 -0.60146348]\n",
            " [ 0.          0.          1.          1.          1.          1.          1.        ]\n",
            " [-0.29838734  1.          0.24765153  0.06231686  0.0524475   0.06411737  0.04399635]\n",
            " [-0.48517697  1.          0.06231686  0.20913529  0.08749071  0.08092259  0.07209397]\n",
            " [-0.65896155  1.          0.0524475   0.08749071  0.4535369   0.09271271  0.18489656]\n",
            " [ 0.63605219  1.          0.06411737  0.08092259  0.09271271  0.37175062  0.08675818]\n",
            " [-0.60146348  1.          0.04399635  0.07209397  0.18489656  0.08675818  0.33808559]]\n"
          ]
        }
      ],
      "source": [
        "R = expected_return.values\n",
        "Pi = np.ones(5)\n",
        "S = cov.values\n",
        "\n",
        "row1 = np.append(np.zeros(2), R).reshape(1,-1)\n",
        "row2 = np.append(np.zeros(2), Pi).reshape(1,-1)\n",
        "row3 = np.concatenate([R.reshape(-1,1), Pi.reshape(-1,1), S], axis=1)\n",
        "W = np.concatenate([row1, row2, row3])\n",
        "\n",
        "np.set_printoptions(linewidth=200)\n",
        "print(W)"
      ]
    },
    {
      "cell_type": "code",
      "execution_count": 28,
      "metadata": {
        "id": "pulf90PNLAko",
        "outputId": "97cee72f-b4dd-4737-92f0-d96a9bfe6fbe",
        "colab": {
          "base_uri": "https://localhost:8080/"
        }
      },
      "outputs": [
        {
          "output_type": "stream",
          "name": "stdout",
          "text": [
            "[-2.04650994 -0.8713635   0.15988959  0.20277511  0.29711292  1.1791468   2.69910895]\n"
          ]
        }
      ],
      "source": [
        "## Check eigenvalue of W -> fits in [-pi, pi]\n",
        "print(np.linalg.eigh(W)[0])"
      ]
    },
    {
      "cell_type": "markdown",
      "metadata": {
        "id": "_7fZfKNTLAko"
      },
      "source": [
        "#### Creating the right-hand side vector\n",
        "Given the expected return $\\mu$ of the portfolio below, we can calculate the least risky portfolio that will yield such a return. The $\\mu$ can be set freely. In general, the higher the expected return, the greater the risk, but we will use 10% as an example (this is a very bearish one, since it is a time when GAFA stocks are going gangbusters)."
      ]
    },
    {
      "cell_type": "code",
      "execution_count": 29,
      "metadata": {
        "id": "4ms5pm1tLAko",
        "outputId": "12c11ba1-9c1b-49a0-a304-eba21553e2ab",
        "colab": {
          "base_uri": "https://localhost:8080/"
        }
      },
      "outputs": [
        {
          "output_type": "stream",
          "name": "stdout",
          "text": [
            "[0.1 1.  0.  0.  0.  0.  0. ]\n"
          ]
        }
      ],
      "source": [
        "mu = 0.1 # Portfolio returns (parameters to be put in hand)\n",
        "xi = 1.0\n",
        "mu_xi_0 = np.append(np.array([mu, xi]), np.zeros_like(R)) ## Vector on the right side of equation (1)\n",
        "print(mu_xi_0)"
      ]
    },
    {
      "cell_type": "markdown",
      "metadata": {
        "id": "OMy0LVAULAkp"
      },
      "source": [
        "#### Extend the matrix so that it can be handled by a quantum system\n",
        "Since $W$ is 6-dimensional, it is computable in a quantum system with 3 qubits ($2^3 = 8$).\n",
        "Therefore, we also make a matrix and a vector with the extended two dimensions filled with zeros."
      ]
    },
    {
      "cell_type": "code",
      "execution_count": 30,
      "metadata": {
        "id": "a3AAsDZhLAkp"
      },
      "outputs": [],
      "source": [
        "nbit = 3 ## Number of bits used for state\n",
        "N = 2**nbit\n",
        "\n",
        "W_enl = np.zeros((N, N)) ## enl stands for enlarged\n",
        "W_enl[:W.shape[0], :W.shape[1]] = W.copy()\n",
        "mu_xi_0_enl = np.zeros(N)\n",
        "mu_xi_0_enl[:len(mu_xi_0)] = mu_xi_0.copy()"
      ]
    },
    {
      "cell_type": "markdown",
      "metadata": {
        "id": "tyu791XaLAkp"
      },
      "source": [
        "We are now ready to solve the simultaneous equation (1).\n",
        "\n",
        "### Calculating the minimum variance portfolio using the HHL algorithm\n",
        "Now, let us solve the simultaneous linear equations (1) using the HHL algorithm.\n",
        "First, as a preliminary step, we prepare the following functions.\n",
        "\n",
        "* A function `input_state_gate` that returns a quantum circuit that converts the quantum state to $|0\\cdots0\\rangle \\to \\sum_i x_i |i \\rangle$ according to the classical data $\\mathbf{x}$ This function should be built using the qRAM concept, but since we are using a simulator, we will implement it as a non-unitary gate this time. Also, standardization is ignored.)\n",
        "* Function `CPhaseGate` that returns a control phase gate.\n",
        "* function `QFT_gate` that returns a gate to perform quantum Fourier transform."
      ]
    },
    {
      "cell_type": "code",
      "execution_count": 53,
      "metadata": {
        "id": "dperjIjxLAkp",
        "colab": {
          "base_uri": "https://localhost:8080/"
        },
        "outputId": "f69a81f4-36d2-4641-ee19-7c6bb485a9b9"
      },
      "outputs": [
        {
          "output_type": "stream",
          "name": "stdout",
          "text": [
            "Requirement already satisfied: qulacs in /usr/local/lib/python3.10/dist-packages (0.6.1)\n",
            "Requirement already satisfied: numpy in /usr/local/lib/python3.10/dist-packages (from qulacs) (1.23.5)\n",
            "Requirement already satisfied: scipy in /usr/local/lib/python3.10/dist-packages (from qulacs) (1.10.1)\n",
            "Requirement already satisfied: wurlitzer in /usr/local/lib/python3.10/dist-packages (3.0.3)\n",
            "The wurlitzer extension is already loaded. To reload it, use:\n",
            "  %reload_ext wurlitzer\n"
          ]
        }
      ],
      "source": [
        "# Install Qulacs\n",
        "!pip install qulacs\n",
        "\n",
        "!pip3 install wurlitzer\n",
        "%load_ext wurlitzer"
      ]
    },
    {
      "cell_type": "code",
      "execution_count": 54,
      "metadata": {
        "id": "IH13qbD5LAkp"
      },
      "outputs": [],
      "source": [
        "import numpy as np\n",
        "from qulacs import QuantumCircuit, QuantumState, gate\n",
        "from qulacs.gate import merge, Identity, H, SWAP\n",
        "\n",
        "def input_state_gate(start_bit, end_bit, vec):\n",
        "    \"\"\"\n",
        "    Making a quantum gate which transform |0> to \\sum_i x[i]|i>m where x[i] is input vector.\n",
        "    !!! this uses 2**n times 2**n matrix, so it is quite memory-cosuming.\n",
        "    !!! this gate is not unitary (we assume that the input state is |0>)\n",
        "    Args:\n",
        "      int start_bit: first index of qubit which the gate applies\n",
        "      int end_bit:   last index of qubit which the gate applies\n",
        "      np.ndarray vec:  input vector.\n",
        "    Returns:\n",
        "      qulacs.QuantumGate\n",
        "    \"\"\"\n",
        "    nbit = end_bit - start_bit + 1\n",
        "    assert vec.size == 2**nbit\n",
        "    mat_0tox = np.eye(vec.size, dtype=complex)\n",
        "    mat_0tox[:,0] = vec\n",
        "    return gate.DenseMatrix(np.arange(start_bit, end_bit+1), mat_0tox)\n",
        "\n",
        "\n",
        "def CPhaseGate(target, control, angle):\n",
        "    \"\"\"\n",
        "    Create controlled phase gate diag(1,e^{i*angle}) with controll. (Qulacs.gate is requried)\n",
        "\n",
        "    Args:\n",
        "      int target:  index of target qubit.\n",
        "      int control:  index of control qubit.\n",
        "      float64 angle: angle of phase gate.\n",
        "    Returns:\n",
        "      QuantumGateBase.DenseMatrix: diag(1, exp(i*angle)).\n",
        "    \"\"\"\n",
        "    CPhaseGate = gate.DenseMatrix(target, np.array( [[1,0], [0,np.cos(angle)+1.j*np.sin(angle)]])  )\n",
        "    CPhaseGate.add_control_qubit(control, 1)\n",
        "    return CPhaseGate\n",
        "\n",
        "def QFT_gate(start_bit, end_bit, Inverse = False):\n",
        "    \"\"\"\n",
        "    Making a gate which performs quantum Fourier transfromation between start_bit to end_bit.\n",
        "    (Definition below is the case when start_bit = 0 and end_bit=n-1)\n",
        "    We associate an integer  j = j_{n-1}...j_0 to quantum state |j_{n-1}...j_0>.\n",
        "    We define QFT as\n",
        "    |k> = |k_{n-1}...k_0> = 1/sqrt(2^n) sum_{j=0}^{2^n-1} exp(2pi*i*(k/2^n)*j) |j>.\n",
        "    then, |k_m > = 1/sqrt(2)*(|0> + exp(i*2pi*0.j_{n-1-m}...j_0)|1> )\n",
        "    When Inverse=True,  the gate represents Inverse QFT,\n",
        "    |k> = |k_{n-1}...k_0> = 1/sqrt(2^n) sum_{j=0}^{2^n-1} exp(-2pi*i*(k/2^n)*j) |j>.\n",
        "\n",
        "    Args:\n",
        "      int start_bit:  first index of qubits where we apply QFT.\n",
        "      int end_bit:    last  index of qubits where we apply QFT.\n",
        "      bool Inverse: When True, the gate perform inverse-QFT ( = QFT^{\\dagger}).\n",
        "    Returns:\n",
        "      qulacs.QuantumGate: QFT gate which acts on a region between start_bit and end_bit.\n",
        "    \"\"\"\n",
        "\n",
        "    gate = Identity(start_bit) ## make empty gate\n",
        "    n = end_bit - start_bit + 1  ## size of QFT\n",
        "\n",
        "    ## loop from j_{n-1}\n",
        "    for target in range(end_bit, start_bit-1, -1):\n",
        "        gate = merge(gate, H(target)) ## 1/sqrt(2)(|0> + exp(i*2pi*0.j_{target})|1>)\n",
        "        for control in range(start_bit, target):\n",
        "            gate = merge( gate, CPhaseGate(target, control, (-1)**Inverse * 2.*np.pi/2**(target-control+1)) )\n",
        "    ## perform SWAP between (start_bit + s)-th bit and (end_bit - s)-th bit\n",
        "    for s in range(n//2):  ## s runs 0 to n//2-1\n",
        "        gate = merge(gate, SWAP(start_bit + s, end_bit - s))\n",
        "    ## return final circuit\n",
        "    return gate"
      ]
    },
    {
      "cell_type": "markdown",
      "metadata": {
        "id": "_py1o9XoLAkp"
      },
      "source": [
        "First, set the necessary parameters for the HHL algorithm.\n",
        "Set the clock register quantum bit number `reg_nbit` to `7` and the coefficient `scale_fac` used for scaling the matrix $W$ to `1` (i.e., do not scale it).\n",
        "Also, the coefficient $c$ used for the control rotation gate is kept at half of the smallest number of nonzeros that can be represented by the `reg_nbit` bits."
      ]
    },
    {
      "cell_type": "code",
      "execution_count": 55,
      "metadata": {
        "id": "K23DzNLPLAkp"
      },
      "outputs": [],
      "source": [
        "# number of registers used for phase estimation\n",
        "reg_nbit = 7\n",
        "\n",
        "## Factor to scale W_enl\n",
        "scale_fac = 1.0\n",
        "W_enl_scaled = scale_fac * W_enl\n",
        "\n",
        "## Minimum value to be assumed as an eigenvalue of W_enl_scaled\n",
        "## In this case, since the projection succeeds 100%, we set the value as a constant multiple of the minimum value that can be represented by the register.\n",
        "C = 0.5*(2 * np.pi * (1. / 2**(reg_nbit) ))"
      ]
    },
    {
      "cell_type": "markdown",
      "metadata": {
        "id": "V29Jt1CwLAkp"
      },
      "source": [
        "The core of the HHL algorithm will be written. In this article, we use the simulator qulacs, so various simplifications have been made.\n",
        "This is an implementation to get a sense of how the HHL algorithm works.\n",
        "\n",
        "* The part of preparing the input state $|\\mathbf{b}\\rangle$ is simplified.\n",
        "* The part of $e^{iA}$ used in the quantum phase estimation algorithm is the diagonalization of $A$ by a classical computer.\n",
        "* Control rotation gate that takes inverses is also implemented by a classical computer..\n",
        "* Measure the projection to the auxiliary bit $|0 \\rangle{}_{S}$ and treat only the states where the measurement result `0` is obtained.\n",
        "(For convenience of implementation, the definition of the action of the control rotation gate is reversed from [section 7-1](7.1_quantum_phase_estimation_detailed.ipynb))"
      ]
    },
    {
      "cell_type": "code",
      "execution_count": 56,
      "metadata": {
        "id": "44myOLHSLAkq",
        "colab": {
          "base_uri": "https://localhost:8080/"
        },
        "outputId": "58688835-208d-486a-ed3d-809c8ad4199f"
      },
      "outputs": [
        {
          "output_type": "stream",
          "name": "stdout",
          "text": [
            "[-0.00247494 -0.003534    0.00728571  0.0044007  -0.00043018  0.0115807   0.001537    0.        ]\n",
            "[-0.10083827 -0.14398821  0.29684651  0.17930063 -0.01752731  0.47183999  0.06262289  0.        ]\n"
          ]
        }
      ],
      "source": [
        "from functools import reduce\n",
        "\n",
        "## diagonalization. AP = PD <-> A = P*D*P^dag\n",
        "D, P = np.linalg.eigh(W_enl_scaled)\n",
        "\n",
        "#####################################\n",
        "### Create an HHL quantum circuit. Starting from the 0th bit,\n",
        "### we have the bits in the space where A acts (0th ~ nbit-1th),\n",
        "### the register bits (nbit th ~ nbit+reg_nbit-1 th), and\n",
        "### the bits for conditional rotation (nbit+reg_nbit th).\n",
        "#####################################\n",
        "\n",
        "total_qubits = nbit + reg_nbit + 1\n",
        "total_circuit = QuantumCircuit(total_qubits)\n",
        "\n",
        "## ------ Prepare vector b input to the 0th~(nbit-1)th bit ------\n",
        "## Normally we should use qRAM algorithm, but here we use our own input gate.\n",
        "## In qulacs, you can also implement it with state.load(b_enl).\n",
        "state = QuantumState(total_qubits)\n",
        "state.set_zero_state()\n",
        "b_gate = input_state_gate(0, nbit-1, mu_xi_0_enl)\n",
        "total_circuit.add_gate(b_gate)\n",
        "\n",
        "## ------- Hadamard gate on register bit -------\n",
        "for register in range(nbit, nbit+reg_nbit): ## from nbit to nbit+reg_nbit-1\n",
        "    total_circuit.add_H_gate(register)\n",
        "\n",
        "## ------- Implement phase estimation -------\n",
        "## U := e^{i*A*t) and its eigenvalues are diag( {e^{i*2pi*phi_k}}_{k=0, ... N-1)).\n",
        "## Implement \\sum_j |j><j| exp(i*A*t*j) to register bits\n",
        "for register in range(nbit, nbit+reg_nbit):\n",
        "    ## Implement U^{2^{register-nbit}}.\n",
        "    ## Use diagonalized results.\n",
        "    U_mat = reduce(np.dot,  [P, np.diag(np.exp( 1.j * D * (2**(register-nbit)) )), P.T.conj()]  )\n",
        "    U_gate = gate.DenseMatrix(np.arange(nbit), U_mat)\n",
        "    U_gate.add_control_qubit(register, 1) ## add control bit\n",
        "    total_circuit.add_gate(U_gate)\n",
        "\n",
        "## ------- Perform inverse QFT to register bits -------\n",
        "total_circuit.add_gate(QFT_gate(nbit, nbit+reg_nbit-1, Inverse=True))\n",
        "\n",
        "## ------- multiply conditional rotation -------\n",
        "## The eigenvalue of A*t corresponding to the register |phi> is l = 2pi * 0. phi = 2pi * (phi / 2**reg_nbit).\n",
        "## The definition of conditional rotation is (opposite of the text)\n",
        "## |phi>|0> -> C/(lambda)|phi>|0> + sqrt(1 - C^2/(lambda)^2)|phi>|1>.\n",
        "## Since this is a classical simulation, the gate is made explicitly.\n",
        "condrot_mat = np.zeros( (2**(reg_nbit+1), (2**(reg_nbit+1))), dtype=complex)\n",
        "for index in range(2**reg_nbit):\n",
        "    lam = 2 * np.pi * (float(index) / 2**(reg_nbit) )\n",
        "    index_0 = index ## integer which represents |index>|0>\n",
        "    index_1 = index + 2**reg_nbit ## integer which represents |index>|1>\n",
        "    if lam >= C:\n",
        "        if lam >= np.pi: ## Since we have scaled the eigenvalues in [-pi, pi] beforehand, [pi, 2pi] corresponds to a negative eigenvalue\n",
        "            lam = lam - 2*np.pi\n",
        "        condrot_mat[index_0, index_0] = C / lam\n",
        "        condrot_mat[index_1, index_0] =   np.sqrt( 1 - C**2/lam**2 )\n",
        "        condrot_mat[index_0, index_1] = - np.sqrt( 1 - C**2/lam**2 )\n",
        "        condrot_mat[index_1, index_1] = C / lam\n",
        "\n",
        "    else:\n",
        "        condrot_mat[index_0, index_0] = 1.\n",
        "        condrot_mat[index_1, index_1] = 1.\n",
        "## Convert to DenseGate and implement\n",
        "condrot_gate = gate.DenseMatrix(np.arange(nbit, nbit+reg_nbit+1), condrot_mat)\n",
        "total_circuit.add_gate(condrot_gate)\n",
        "\n",
        "## ------- Perform QFT to register bits -------\n",
        "total_circuit.add_gate(QFT_gate(nbit, nbit+reg_nbit-1, Inverse=False))\n",
        "\n",
        "## ------- Implement the inverse of phase estimation (U^\\dagger = e^{-iAt}) -------\n",
        "for register in range(nbit, nbit+reg_nbit): ## from nbit to nbit+reg_nbit-1\n",
        "    ## implement {U^{\\dagger}}^{2^{register-nbit}}\n",
        "    ## use diagonalized results.\n",
        "    U_mat = reduce(np.dot,  [P, np.diag(np.exp( -1.j* D * (2**(register-nbit)) )), P.T.conj()]  )\n",
        "    U_gate = gate.DenseMatrix(np.arange(nbit), U_mat)\n",
        "    U_gate.add_control_qubit(register, 1) ## add a control bit\n",
        "    total_circuit.add_gate(U_gate)\n",
        "\n",
        "## ------- act Hadamard gate on register bit -------\n",
        "for register in range(nbit, nbit+reg_nbit):\n",
        "    total_circuit.add_H_gate(register)\n",
        "\n",
        "## ------- Project auxiliary bits to 0. Implemented in qulacs as a non-unitary gate -------\n",
        "total_circuit.add_P0_gate(nbit+reg_nbit)\n",
        "\n",
        "#####################################\n",
        "### Run the HHL quantum circuit and retrieve the result\n",
        "#####################################\n",
        "total_circuit.update_quantum_state(state)\n",
        "\n",
        "## The 0th to (nbit-1)th bit corresponds to the calculation result |x>.\n",
        "result = state.get_vector()[:2**nbit].real\n",
        "print(result)\n",
        "x_HHL = result/C * scale_fac\n",
        "print(x_HHL)"
      ]
    },
    {
      "cell_type": "markdown",
      "metadata": {
        "id": "HMTEqp5dLAkq"
      },
      "source": [
        "Comparing the solution `x_HHL` by the HHL algorithm with the solution `x_exact` by diagonalization of the usual classical computation, we can see that they are roughly in agreement. (There are several parameters that determine the accuracy of the HHL algorithm (e.g. `reg_nbit`), so please try changing them and experiment with them)."
      ]
    },
    {
      "cell_type": "code",
      "execution_count": 35,
      "metadata": {
        "id": "YXSBDvOLLAkq",
        "outputId": "2af9c79a-c67c-40bc-e39e-40a379593bec",
        "colab": {
          "base_uri": "https://localhost:8080/"
        }
      },
      "outputs": [
        {
          "output_type": "stream",
          "name": "stdout",
          "text": [
            "HHL:   [-0.10083827 -0.14398821  0.29684651  0.17930063 -0.01752731  0.47183999  0.06262289  0.        ]\n",
            "exact: [-0.10423092 -0.14835452  0.29715195  0.17982752 -0.01651577  0.47639209  0.06314421  0.        ]\n",
            "rel_error 0.011733039127845178\n"
          ]
        }
      ],
      "source": [
        "## Exact solution\n",
        "x_exact = np.linalg.lstsq(W_enl, mu_xi_0_enl, rcond=0)[0]\n",
        "\n",
        "print(\"HHL:  \", x_HHL)\n",
        "print(\"exact:\", x_exact)\n",
        "rel_error = np.linalg.norm(x_HHL- x_exact) / np.linalg.norm(x_exact)\n",
        "print(\"rel_error\", rel_error)"
      ]
    },
    {
      "cell_type": "code",
      "source": [
        "x_HHL"
      ],
      "metadata": {
        "colab": {
          "base_uri": "https://localhost:8080/"
        },
        "id": "LoF808ApkO27",
        "outputId": "0b844a65-1944-49a1-fa7d-19eb7e4e3b18"
      },
      "execution_count": 36,
      "outputs": [
        {
          "output_type": "execute_result",
          "data": {
            "text/plain": [
              "array([-0.10083827, -0.14398821,  0.29684651,  0.17930063, -0.01752731,  0.47183999,  0.06262289,  0.        ])"
            ]
          },
          "metadata": {},
          "execution_count": 36
        }
      ]
    },
    {
      "cell_type": "markdown",
      "metadata": {
        "id": "545sE4qsLAkq"
      },
      "source": [
        "If we take out only the actual weighting part"
      ]
    },
    {
      "cell_type": "code",
      "execution_count": 51,
      "metadata": {
        "id": "7wZMt5yyLAkq",
        "outputId": "a1e817b1-7c74-47fa-db94-6c8329a81c4f",
        "colab": {
          "base_uri": "https://localhost:8080/",
          "height": 241
        }
      },
      "outputs": [
        {
          "output_type": "stream",
          "name": "stdout",
          "text": [
            "0.9930827146704323\n",
            "0.9999999999999992\n"
          ]
        },
        {
          "output_type": "execute_result",
          "data": {
            "text/plain": [
              "                  exact       HHL\n",
              "FINOPB.NS      0.297152  0.296847\n",
              "CARTRADE.NS    0.179828  0.179301\n",
              "ZOMATO.NS     -0.016516 -0.017527\n",
              "EASEMYTRIP.NS  0.476392  0.471840\n",
              "POLICYBZR.NS   0.063144  0.062623"
            ],
            "text/html": [
              "\n",
              "  <div id=\"df-91e3c1fc-4425-41ee-ba90-0fb358439df3\" class=\"colab-df-container\">\n",
              "    <div>\n",
              "<style scoped>\n",
              "    .dataframe tbody tr th:only-of-type {\n",
              "        vertical-align: middle;\n",
              "    }\n",
              "\n",
              "    .dataframe tbody tr th {\n",
              "        vertical-align: top;\n",
              "    }\n",
              "\n",
              "    .dataframe thead th {\n",
              "        text-align: right;\n",
              "    }\n",
              "</style>\n",
              "<table border=\"1\" class=\"dataframe\">\n",
              "  <thead>\n",
              "    <tr style=\"text-align: right;\">\n",
              "      <th></th>\n",
              "      <th>exact</th>\n",
              "      <th>HHL</th>\n",
              "    </tr>\n",
              "  </thead>\n",
              "  <tbody>\n",
              "    <tr>\n",
              "      <th>FINOPB.NS</th>\n",
              "      <td>0.297152</td>\n",
              "      <td>0.296847</td>\n",
              "    </tr>\n",
              "    <tr>\n",
              "      <th>CARTRADE.NS</th>\n",
              "      <td>0.179828</td>\n",
              "      <td>0.179301</td>\n",
              "    </tr>\n",
              "    <tr>\n",
              "      <th>ZOMATO.NS</th>\n",
              "      <td>-0.016516</td>\n",
              "      <td>-0.017527</td>\n",
              "    </tr>\n",
              "    <tr>\n",
              "      <th>EASEMYTRIP.NS</th>\n",
              "      <td>0.476392</td>\n",
              "      <td>0.471840</td>\n",
              "    </tr>\n",
              "    <tr>\n",
              "      <th>POLICYBZR.NS</th>\n",
              "      <td>0.063144</td>\n",
              "      <td>0.062623</td>\n",
              "    </tr>\n",
              "  </tbody>\n",
              "</table>\n",
              "</div>\n",
              "    <div class=\"colab-df-buttons\">\n",
              "\n",
              "  <div class=\"colab-df-container\">\n",
              "    <button class=\"colab-df-convert\" onclick=\"convertToInteractive('df-91e3c1fc-4425-41ee-ba90-0fb358439df3')\"\n",
              "            title=\"Convert this dataframe to an interactive table.\"\n",
              "            style=\"display:none;\">\n",
              "\n",
              "  <svg xmlns=\"http://www.w3.org/2000/svg\" height=\"24px\" viewBox=\"0 -960 960 960\">\n",
              "    <path d=\"M120-120v-720h720v720H120Zm60-500h600v-160H180v160Zm220 220h160v-160H400v160Zm0 220h160v-160H400v160ZM180-400h160v-160H180v160Zm440 0h160v-160H620v160ZM180-180h160v-160H180v160Zm440 0h160v-160H620v160Z\"/>\n",
              "  </svg>\n",
              "    </button>\n",
              "\n",
              "  <style>\n",
              "    .colab-df-container {\n",
              "      display:flex;\n",
              "      gap: 12px;\n",
              "    }\n",
              "\n",
              "    .colab-df-convert {\n",
              "      background-color: #E8F0FE;\n",
              "      border: none;\n",
              "      border-radius: 50%;\n",
              "      cursor: pointer;\n",
              "      display: none;\n",
              "      fill: #1967D2;\n",
              "      height: 32px;\n",
              "      padding: 0 0 0 0;\n",
              "      width: 32px;\n",
              "    }\n",
              "\n",
              "    .colab-df-convert:hover {\n",
              "      background-color: #E2EBFA;\n",
              "      box-shadow: 0px 1px 2px rgba(60, 64, 67, 0.3), 0px 1px 3px 1px rgba(60, 64, 67, 0.15);\n",
              "      fill: #174EA6;\n",
              "    }\n",
              "\n",
              "    .colab-df-buttons div {\n",
              "      margin-bottom: 4px;\n",
              "    }\n",
              "\n",
              "    [theme=dark] .colab-df-convert {\n",
              "      background-color: #3B4455;\n",
              "      fill: #D2E3FC;\n",
              "    }\n",
              "\n",
              "    [theme=dark] .colab-df-convert:hover {\n",
              "      background-color: #434B5C;\n",
              "      box-shadow: 0px 1px 3px 1px rgba(0, 0, 0, 0.15);\n",
              "      filter: drop-shadow(0px 1px 2px rgba(0, 0, 0, 0.3));\n",
              "      fill: #FFFFFF;\n",
              "    }\n",
              "  </style>\n",
              "\n",
              "    <script>\n",
              "      const buttonEl =\n",
              "        document.querySelector('#df-91e3c1fc-4425-41ee-ba90-0fb358439df3 button.colab-df-convert');\n",
              "      buttonEl.style.display =\n",
              "        google.colab.kernel.accessAllowed ? 'block' : 'none';\n",
              "\n",
              "      async function convertToInteractive(key) {\n",
              "        const element = document.querySelector('#df-91e3c1fc-4425-41ee-ba90-0fb358439df3');\n",
              "        const dataTable =\n",
              "          await google.colab.kernel.invokeFunction('convertToInteractive',\n",
              "                                                    [key], {});\n",
              "        if (!dataTable) return;\n",
              "\n",
              "        const docLinkHtml = 'Like what you see? Visit the ' +\n",
              "          '<a target=\"_blank\" href=https://colab.research.google.com/notebooks/data_table.ipynb>data table notebook</a>'\n",
              "          + ' to learn more about interactive tables.';\n",
              "        element.innerHTML = '';\n",
              "        dataTable['output_type'] = 'display_data';\n",
              "        await google.colab.output.renderOutput(dataTable, element);\n",
              "        const docLink = document.createElement('div');\n",
              "        docLink.innerHTML = docLinkHtml;\n",
              "        element.appendChild(docLink);\n",
              "      }\n",
              "    </script>\n",
              "  </div>\n",
              "\n",
              "\n",
              "<div id=\"df-5368afba-a3a8-4cc0-ab3b-2f48ea6ed519\">\n",
              "  <button class=\"colab-df-quickchart\" onclick=\"quickchart('df-5368afba-a3a8-4cc0-ab3b-2f48ea6ed519')\"\n",
              "            title=\"Suggest charts.\"\n",
              "            style=\"display:none;\">\n",
              "\n",
              "<svg xmlns=\"http://www.w3.org/2000/svg\" height=\"24px\"viewBox=\"0 0 24 24\"\n",
              "     width=\"24px\">\n",
              "    <g>\n",
              "        <path d=\"M19 3H5c-1.1 0-2 .9-2 2v14c0 1.1.9 2 2 2h14c1.1 0 2-.9 2-2V5c0-1.1-.9-2-2-2zM9 17H7v-7h2v7zm4 0h-2V7h2v10zm4 0h-2v-4h2v4z\"/>\n",
              "    </g>\n",
              "</svg>\n",
              "  </button>\n",
              "\n",
              "<style>\n",
              "  .colab-df-quickchart {\n",
              "    background-color: #E8F0FE;\n",
              "    border: none;\n",
              "    border-radius: 50%;\n",
              "    cursor: pointer;\n",
              "    display: none;\n",
              "    fill: #1967D2;\n",
              "    height: 32px;\n",
              "    padding: 0 0 0 0;\n",
              "    width: 32px;\n",
              "  }\n",
              "\n",
              "  .colab-df-quickchart:hover {\n",
              "    background-color: #E2EBFA;\n",
              "    box-shadow: 0px 1px 2px rgba(60, 64, 67, 0.3), 0px 1px 3px 1px rgba(60, 64, 67, 0.15);\n",
              "    fill: #174EA6;\n",
              "  }\n",
              "\n",
              "  [theme=dark] .colab-df-quickchart {\n",
              "    background-color: #3B4455;\n",
              "    fill: #D2E3FC;\n",
              "  }\n",
              "\n",
              "  [theme=dark] .colab-df-quickchart:hover {\n",
              "    background-color: #434B5C;\n",
              "    box-shadow: 0px 1px 3px 1px rgba(0, 0, 0, 0.15);\n",
              "    filter: drop-shadow(0px 1px 2px rgba(0, 0, 0, 0.3));\n",
              "    fill: #FFFFFF;\n",
              "  }\n",
              "</style>\n",
              "\n",
              "  <script>\n",
              "    async function quickchart(key) {\n",
              "      const charts = await google.colab.kernel.invokeFunction(\n",
              "          'suggestCharts', [key], {});\n",
              "    }\n",
              "    (() => {\n",
              "      let quickchartButtonEl =\n",
              "        document.querySelector('#df-5368afba-a3a8-4cc0-ab3b-2f48ea6ed519 button');\n",
              "      quickchartButtonEl.style.display =\n",
              "        google.colab.kernel.accessAllowed ? 'block' : 'none';\n",
              "    })();\n",
              "  </script>\n",
              "</div>\n",
              "    </div>\n",
              "  </div>\n"
            ]
          },
          "metadata": {},
          "execution_count": 51
        }
      ],
      "source": [
        "w_opt_HHL = x_HHL[2:7]\n",
        "print(sum(w_opt_HHL))\n",
        "w_opt_exact = x_exact[2:7]\n",
        "print(sum(w_opt_exact))\n",
        "w_opt = pd.DataFrame(np.vstack([w_opt_exact, w_opt_HHL]).T, index=df.columns, columns=['exact', 'HHL'])\n",
        "w_opt"
      ]
    },
    {
      "cell_type": "code",
      "execution_count": 38,
      "metadata": {
        "id": "MD1Em24NLAkq",
        "outputId": "db3d67b5-885e-4110-ef6d-8c1326ba93e2",
        "colab": {
          "base_uri": "https://localhost:8080/",
          "height": 546
        }
      },
      "outputs": [
        {
          "output_type": "execute_result",
          "data": {
            "text/plain": [
              "<Axes: >"
            ]
          },
          "metadata": {},
          "execution_count": 38
        },
        {
          "output_type": "display_data",
          "data": {
            "text/plain": [
              "<Figure size 640x480 with 1 Axes>"
            ],
            "image/png": "[encoded data removed]"
          },
          "metadata": {}
        }
      ],
      "source": [
        "w_opt.plot.bar()"
      ]
    },
    {
      "cell_type": "markdown",
      "metadata": {
        "id": "pIviN0bmLAkq"
      },
      "source": [
        "\n",
        "### Appendix: Back Testing\n",
        "The verification of an investment rule derived from historical data using subsequent data is called \"back-testing,\" and is important for measuring the effectiveness of the investment rule.\n",
        "In this section, we will observe how much asset values change in the following year, 2023, when invested in a portfolio constructed from 2022 data as described above."
      ]
    },
    {
      "cell_type": "code",
      "execution_count": 39,
      "metadata": {
        "id": "I1A2rxnuLAkr",
        "outputId": "0c1eb4b1-ff78-49b5-f9ac-71732ac966ee",
        "colab": {
          "base_uri": "https://localhost:8080/",
          "height": 324
        }
      },
      "outputs": [
        {
          "output_type": "stream",
          "name": "stdout",
          "text": [
            "[*********************100%%**********************]  1 of 1 completed\n",
            "[*********************100%%**********************]  1 of 1 completed\n",
            "[*********************100%%**********************]  1 of 1 completed\n",
            "[*********************100%%**********************]  1 of 1 completed\n",
            "[*********************100%%**********************]  1 of 1 completed\n"
          ]
        },
        {
          "output_type": "display_data",
          "data": {
            "text/plain": [
              "             FINOPB.NS  CARTRADE.NS  ZOMATO.NS  EASEMYTRIP.NS  POLICYBZR.NS\n",
              "Date                                                                       \n",
              "2023-08-11  357.700012   527.349976  93.449997      40.349998    727.450012\n",
              "2023-08-14  351.100006   518.650024  92.750000      40.599998    731.299988\n",
              "2023-08-16  354.750000   509.549988  91.900002      39.599998    718.599976\n",
              "2023-08-17  356.450012   496.149994  91.150002      38.450001    710.150024\n",
              "2023-08-18  356.950012   495.049988  89.349998      37.349998    726.799988"
            ],
            "text/html": [
              "\n",
              "  <div id=\"df-c9185ded-2ad1-438c-bbca-d8292df6e552\" class=\"colab-df-container\">\n",
              "    <div>\n",
              "<style scoped>\n",
              "    .dataframe tbody tr th:only-of-type {\n",
              "        vertical-align: middle;\n",
              "    }\n",
              "\n",
              "    .dataframe tbody tr th {\n",
              "        vertical-align: top;\n",
              "    }\n",
              "\n",
              "    .dataframe thead th {\n",
              "        text-align: right;\n",
              "    }\n",
              "</style>\n",
              "<table border=\"1\" class=\"dataframe\">\n",
              "  <thead>\n",
              "    <tr style=\"text-align: right;\">\n",
              "      <th></th>\n",
              "      <th>FINOPB.NS</th>\n",
              "      <th>CARTRADE.NS</th>\n",
              "      <th>ZOMATO.NS</th>\n",
              "      <th>EASEMYTRIP.NS</th>\n",
              "      <th>POLICYBZR.NS</th>\n",
              "    </tr>\n",
              "    <tr>\n",
              "      <th>Date</th>\n",
              "      <th></th>\n",
              "      <th></th>\n",
              "      <th></th>\n",
              "      <th></th>\n",
              "      <th></th>\n",
              "    </tr>\n",
              "  </thead>\n",
              "  <tbody>\n",
              "    <tr>\n",
              "      <th>2023-08-11</th>\n",
              "      <td>357.700012</td>\n",
              "      <td>527.349976</td>\n",
              "      <td>93.449997</td>\n",
              "      <td>40.349998</td>\n",
              "      <td>727.450012</td>\n",
              "    </tr>\n",
              "    <tr>\n",
              "      <th>2023-08-14</th>\n",
              "      <td>351.100006</td>\n",
              "      <td>518.650024</td>\n",
              "      <td>92.750000</td>\n",
              "      <td>40.599998</td>\n",
              "      <td>731.299988</td>\n",
              "    </tr>\n",
              "    <tr>\n",
              "      <th>2023-08-16</th>\n",
              "      <td>354.750000</td>\n",
              "      <td>509.549988</td>\n",
              "      <td>91.900002</td>\n",
              "      <td>39.599998</td>\n",
              "      <td>718.599976</td>\n",
              "    </tr>\n",
              "    <tr>\n",
              "      <th>2023-08-17</th>\n",
              "      <td>356.450012</td>\n",
              "      <td>496.149994</td>\n",
              "      <td>91.150002</td>\n",
              "      <td>38.450001</td>\n",
              "      <td>710.150024</td>\n",
              "    </tr>\n",
              "    <tr>\n",
              "      <th>2023-08-18</th>\n",
              "      <td>356.950012</td>\n",
              "      <td>495.049988</td>\n",
              "      <td>89.349998</td>\n",
              "      <td>37.349998</td>\n",
              "      <td>726.799988</td>\n",
              "    </tr>\n",
              "  </tbody>\n",
              "</table>\n",
              "</div>\n",
              "    <div class=\"colab-df-buttons\">\n",
              "\n",
              "  <div class=\"colab-df-container\">\n",
              "    <button class=\"colab-df-convert\" onclick=\"convertToInteractive('df-c9185ded-2ad1-438c-bbca-d8292df6e552')\"\n",
              "            title=\"Convert this dataframe to an interactive table.\"\n",
              "            style=\"display:none;\">\n",
              "\n",
              "  <svg xmlns=\"http://www.w3.org/2000/svg\" height=\"24px\" viewBox=\"0 -960 960 960\">\n",
              "    <path d=\"M120-120v-720h720v720H120Zm60-500h600v-160H180v160Zm220 220h160v-160H400v160Zm0 220h160v-160H400v160ZM180-400h160v-160H180v160Zm440 0h160v-160H620v160ZM180-180h160v-160H180v160Zm440 0h160v-160H620v160Z\"/>\n",
              "  </svg>\n",
              "    </button>\n",
              "\n",
              "  <style>\n",
              "    .colab-df-container {\n",
              "      display:flex;\n",
              "      gap: 12px;\n",
              "    }\n",
              "\n",
              "    .colab-df-convert {\n",
              "      background-color: #E8F0FE;\n",
              "      border: none;\n",
              "      border-radius: 50%;\n",
              "      cursor: pointer;\n",
              "      display: none;\n",
              "      fill: #1967D2;\n",
              "      height: 32px;\n",
              "      padding: 0 0 0 0;\n",
              "      width: 32px;\n",
              "    }\n",
              "\n",
              "    .colab-df-convert:hover {\n",
              "      background-color: #E2EBFA;\n",
              "      box-shadow: 0px 1px 2px rgba(60, 64, 67, 0.3), 0px 1px 3px 1px rgba(60, 64, 67, 0.15);\n",
              "      fill: #174EA6;\n",
              "    }\n",
              "\n",
              "    .colab-df-buttons div {\n",
              "      margin-bottom: 4px;\n",
              "    }\n",
              "\n",
              "    [theme=dark] .colab-df-convert {\n",
              "      background-color: #3B4455;\n",
              "      fill: #D2E3FC;\n",
              "    }\n",
              "\n",
              "    [theme=dark] .colab-df-convert:hover {\n",
              "      background-color: #434B5C;\n",
              "      box-shadow: 0px 1px 3px 1px rgba(0, 0, 0, 0.15);\n",
              "      filter: drop-shadow(0px 1px 2px rgba(0, 0, 0, 0.3));\n",
              "      fill: #FFFFFF;\n",
              "    }\n",
              "  </style>\n",
              "\n",
              "    <script>\n",
              "      const buttonEl =\n",
              "        document.querySelector('#df-c9185ded-2ad1-438c-bbca-d8292df6e552 button.colab-df-convert');\n",
              "      buttonEl.style.display =\n",
              "        google.colab.kernel.accessAllowed ? 'block' : 'none';\n",
              "\n",
              "      async function convertToInteractive(key) {\n",
              "        const element = document.querySelector('#df-c9185ded-2ad1-438c-bbca-d8292df6e552');\n",
              "        const dataTable =\n",
              "          await google.colab.kernel.invokeFunction('convertToInteractive',\n",
              "                                                    [key], {});\n",
              "        if (!dataTable) return;\n",
              "\n",
              "        const docLinkHtml = 'Like what you see? Visit the ' +\n",
              "          '<a target=\"_blank\" href=https://colab.research.google.com/notebooks/data_table.ipynb>data table notebook</a>'\n",
              "          + ' to learn more about interactive tables.';\n",
              "        element.innerHTML = '';\n",
              "        dataTable['output_type'] = 'display_data';\n",
              "        await google.colab.output.renderOutput(dataTable, element);\n",
              "        const docLink = document.createElement('div');\n",
              "        docLink.innerHTML = docLinkHtml;\n",
              "        element.appendChild(docLink);\n",
              "      }\n",
              "    </script>\n",
              "  </div>\n",
              "\n",
              "\n",
              "<div id=\"df-0acce002-e91c-42ad-8b96-0e50d09128df\">\n",
              "  <button class=\"colab-df-quickchart\" onclick=\"quickchart('df-0acce002-e91c-42ad-8b96-0e50d09128df')\"\n",
              "            title=\"Suggest charts.\"\n",
              "            style=\"display:none;\">\n",
              "\n",
              "<svg xmlns=\"http://www.w3.org/2000/svg\" height=\"24px\"viewBox=\"0 0 24 24\"\n",
              "     width=\"24px\">\n",
              "    <g>\n",
              "        <path d=\"M19 3H5c-1.1 0-2 .9-2 2v14c0 1.1.9 2 2 2h14c1.1 0 2-.9 2-2V5c0-1.1-.9-2-2-2zM9 17H7v-7h2v7zm4 0h-2V7h2v10zm4 0h-2v-4h2v4z\"/>\n",
              "    </g>\n",
              "</svg>\n",
              "  </button>\n",
              "\n",
              "<style>\n",
              "  .colab-df-quickchart {\n",
              "    background-color: #E8F0FE;\n",
              "    border: none;\n",
              "    border-radius: 50%;\n",
              "    cursor: pointer;\n",
              "    display: none;\n",
              "    fill: #1967D2;\n",
              "    height: 32px;\n",
              "    padding: 0 0 0 0;\n",
              "    width: 32px;\n",
              "  }\n",
              "\n",
              "  .colab-df-quickchart:hover {\n",
              "    background-color: #E2EBFA;\n",
              "    box-shadow: 0px 1px 2px rgba(60, 64, 67, 0.3), 0px 1px 3px 1px rgba(60, 64, 67, 0.15);\n",
              "    fill: #174EA6;\n",
              "  }\n",
              "\n",
              "  [theme=dark] .colab-df-quickchart {\n",
              "    background-color: #3B4455;\n",
              "    fill: #D2E3FC;\n",
              "  }\n",
              "\n",
              "  [theme=dark] .colab-df-quickchart:hover {\n",
              "    background-color: #434B5C;\n",
              "    box-shadow: 0px 1px 3px 1px rgba(0, 0, 0, 0.15);\n",
              "    filter: drop-shadow(0px 1px 2px rgba(0, 0, 0, 0.3));\n",
              "    fill: #FFFFFF;\n",
              "  }\n",
              "</style>\n",
              "\n",
              "  <script>\n",
              "    async function quickchart(key) {\n",
              "      const charts = await google.colab.kernel.invokeFunction(\n",
              "          'suggestCharts', [key], {});\n",
              "    }\n",
              "    (() => {\n",
              "      let quickchartButtonEl =\n",
              "        document.querySelector('#df-0acce002-e91c-42ad-8b96-0e50d09128df button');\n",
              "      quickchartButtonEl.style.display =\n",
              "        google.colab.kernel.accessAllowed ? 'block' : 'none';\n",
              "    })();\n",
              "  </script>\n",
              "</div>\n",
              "    </div>\n",
              "  </div>\n"
            ]
          },
          "metadata": {}
        }
      ],
      "source": [
        "# Using one year data of 2018\n",
        "start = \"2023-01-01\"\n",
        "end = \"2023-8-20\"\n",
        "\n",
        "# Create an empty DataFrame\n",
        "df_t = pd.DataFrame()\n",
        "\n",
        "# Loop over the stock symbols\n",
        "for code in codes:\n",
        "    # Fetch the historical stock price data\n",
        "    data = yf.download(code, start=start, end=end)\n",
        "    # Store the adjusted closing prices in the DataFrame\n",
        "    df_t[code] = data['Adj Close']\n",
        "\n",
        "\n",
        "display(df_t.tail())"
      ]
    },
    {
      "cell_type": "code",
      "execution_count": 40,
      "metadata": {
        "id": "iTIjiDFNLAkr",
        "outputId": "af0bac40-4da5-4782-a79e-c8b1ebaed490",
        "colab": {
          "base_uri": "https://localhost:8080/",
          "height": 449
        }
      },
      "outputs": [
        {
          "output_type": "display_data",
          "data": {
            "text/plain": [
              "<Figure size 1500x600 with 1 Axes>"
            ],
            "image/png": "[encoded data removed]"
          },
          "metadata": {}
        }
      ],
      "source": [
        "import matplotlib.pyplot as plt\n",
        "\n",
        "# Plot the stock price\n",
        "fig, axes = plt.subplots(nrows=1, ncols=1, figsize=(15, 6))\n",
        "df_t.loc[:,['FINOPB.NS', 'CARTRADE.NS', 'ZOMATO.NS', 'EASEMYTRIP.NS', 'POLICYBZR.NS']].plot(ax=axes)\n",
        "plt.show()"
      ]
    },
    {
      "cell_type": "code",
      "execution_count": 41,
      "metadata": {
        "id": "EJZucVzrLAkr",
        "outputId": "8d820f91-b35d-46ff-de93-84718b65fd4f",
        "colab": {
          "base_uri": "https://localhost:8080/",
          "height": 238
        }
      },
      "outputs": [
        {
          "output_type": "execute_result",
          "data": {
            "text/plain": [
              "                 exact         HHL\n",
              "Date                              \n",
              "2023-01-02  212.679694  211.812445\n",
              "2023-01-03  213.334505  212.466458\n",
              "2023-01-04  211.365591  210.509462\n",
              "2023-01-05  215.682455  214.816181\n",
              "2023-01-06  214.049880  213.185350"
            ],
            "text/html": [
              "\n",
              "  <div id=\"df-7a963112-07e6-4e09-8c43-104d71bd8b1f\" class=\"colab-df-container\">\n",
              "    <div>\n",
              "<style scoped>\n",
              "    .dataframe tbody tr th:only-of-type {\n",
              "        vertical-align: middle;\n",
              "    }\n",
              "\n",
              "    .dataframe tbody tr th {\n",
              "        vertical-align: top;\n",
              "    }\n",
              "\n",
              "    .dataframe thead th {\n",
              "        text-align: right;\n",
              "    }\n",
              "</style>\n",
              "<table border=\"1\" class=\"dataframe\">\n",
              "  <thead>\n",
              "    <tr style=\"text-align: right;\">\n",
              "      <th></th>\n",
              "      <th>exact</th>\n",
              "      <th>HHL</th>\n",
              "    </tr>\n",
              "    <tr>\n",
              "      <th>Date</th>\n",
              "      <th></th>\n",
              "      <th></th>\n",
              "    </tr>\n",
              "  </thead>\n",
              "  <tbody>\n",
              "    <tr>\n",
              "      <th>2023-01-02</th>\n",
              "      <td>212.679694</td>\n",
              "      <td>211.812445</td>\n",
              "    </tr>\n",
              "    <tr>\n",
              "      <th>2023-01-03</th>\n",
              "      <td>213.334505</td>\n",
              "      <td>212.466458</td>\n",
              "    </tr>\n",
              "    <tr>\n",
              "      <th>2023-01-04</th>\n",
              "      <td>211.365591</td>\n",
              "      <td>210.509462</td>\n",
              "    </tr>\n",
              "    <tr>\n",
              "      <th>2023-01-05</th>\n",
              "      <td>215.682455</td>\n",
              "      <td>214.816181</td>\n",
              "    </tr>\n",
              "    <tr>\n",
              "      <th>2023-01-06</th>\n",
              "      <td>214.049880</td>\n",
              "      <td>213.185350</td>\n",
              "    </tr>\n",
              "  </tbody>\n",
              "</table>\n",
              "</div>\n",
              "    <div class=\"colab-df-buttons\">\n",
              "\n",
              "  <div class=\"colab-df-container\">\n",
              "    <button class=\"colab-df-convert\" onclick=\"convertToInteractive('df-7a963112-07e6-4e09-8c43-104d71bd8b1f')\"\n",
              "            title=\"Convert this dataframe to an interactive table.\"\n",
              "            style=\"display:none;\">\n",
              "\n",
              "  <svg xmlns=\"http://www.w3.org/2000/svg\" height=\"24px\" viewBox=\"0 -960 960 960\">\n",
              "    <path d=\"M120-120v-720h720v720H120Zm60-500h600v-160H180v160Zm220 220h160v-160H400v160Zm0 220h160v-160H400v160ZM180-400h160v-160H180v160Zm440 0h160v-160H620v160ZM180-180h160v-160H180v160Zm440 0h160v-160H620v160Z\"/>\n",
              "  </svg>\n",
              "    </button>\n",
              "\n",
              "  <style>\n",
              "    .colab-df-container {\n",
              "      display:flex;\n",
              "      gap: 12px;\n",
              "    }\n",
              "\n",
              "    .colab-df-convert {\n",
              "      background-color: #E8F0FE;\n",
              "      border: none;\n",
              "      border-radius: 50%;\n",
              "      cursor: pointer;\n",
              "      display: none;\n",
              "      fill: #1967D2;\n",
              "      height: 32px;\n",
              "      padding: 0 0 0 0;\n",
              "      width: 32px;\n",
              "    }\n",
              "\n",
              "    .colab-df-convert:hover {\n",
              "      background-color: #E2EBFA;\n",
              "      box-shadow: 0px 1px 2px rgba(60, 64, 67, 0.3), 0px 1px 3px 1px rgba(60, 64, 67, 0.15);\n",
              "      fill: #174EA6;\n",
              "    }\n",
              "\n",
              "    .colab-df-buttons div {\n",
              "      margin-bottom: 4px;\n",
              "    }\n",
              "\n",
              "    [theme=dark] .colab-df-convert {\n",
              "      background-color: #3B4455;\n",
              "      fill: #D2E3FC;\n",
              "    }\n",
              "\n",
              "    [theme=dark] .colab-df-convert:hover {\n",
              "      background-color: #434B5C;\n",
              "      box-shadow: 0px 1px 3px 1px rgba(0, 0, 0, 0.15);\n",
              "      filter: drop-shadow(0px 1px 2px rgba(0, 0, 0, 0.3));\n",
              "      fill: #FFFFFF;\n",
              "    }\n",
              "  </style>\n",
              "\n",
              "    <script>\n",
              "      const buttonEl =\n",
              "        document.querySelector('#df-7a963112-07e6-4e09-8c43-104d71bd8b1f button.colab-df-convert');\n",
              "      buttonEl.style.display =\n",
              "        google.colab.kernel.accessAllowed ? 'block' : 'none';\n",
              "\n",
              "      async function convertToInteractive(key) {\n",
              "        const element = document.querySelector('#df-7a963112-07e6-4e09-8c43-104d71bd8b1f');\n",
              "        const dataTable =\n",
              "          await google.colab.kernel.invokeFunction('convertToInteractive',\n",
              "                                                    [key], {});\n",
              "        if (!dataTable) return;\n",
              "\n",
              "        const docLinkHtml = 'Like what you see? Visit the ' +\n",
              "          '<a target=\"_blank\" href=https://colab.research.google.com/notebooks/data_table.ipynb>data table notebook</a>'\n",
              "          + ' to learn more about interactive tables.';\n",
              "        element.innerHTML = '';\n",
              "        dataTable['output_type'] = 'display_data';\n",
              "        await google.colab.output.renderOutput(dataTable, element);\n",
              "        const docLink = document.createElement('div');\n",
              "        docLink.innerHTML = docLinkHtml;\n",
              "        element.appendChild(docLink);\n",
              "      }\n",
              "    </script>\n",
              "  </div>\n",
              "\n",
              "\n",
              "<div id=\"df-0314ecaf-638c-4e33-a512-c291f47ce93a\">\n",
              "  <button class=\"colab-df-quickchart\" onclick=\"quickchart('df-0314ecaf-638c-4e33-a512-c291f47ce93a')\"\n",
              "            title=\"Suggest charts.\"\n",
              "            style=\"display:none;\">\n",
              "\n",
              "<svg xmlns=\"http://www.w3.org/2000/svg\" height=\"24px\"viewBox=\"0 0 24 24\"\n",
              "     width=\"24px\">\n",
              "    <g>\n",
              "        <path d=\"M19 3H5c-1.1 0-2 .9-2 2v14c0 1.1.9 2 2 2h14c1.1 0 2-.9 2-2V5c0-1.1-.9-2-2-2zM9 17H7v-7h2v7zm4 0h-2V7h2v10zm4 0h-2v-4h2v4z\"/>\n",
              "    </g>\n",
              "</svg>\n",
              "  </button>\n",
              "\n",
              "<style>\n",
              "  .colab-df-quickchart {\n",
              "    background-color: #E8F0FE;\n",
              "    border: none;\n",
              "    border-radius: 50%;\n",
              "    cursor: pointer;\n",
              "    display: none;\n",
              "    fill: #1967D2;\n",
              "    height: 32px;\n",
              "    padding: 0 0 0 0;\n",
              "    width: 32px;\n",
              "  }\n",
              "\n",
              "  .colab-df-quickchart:hover {\n",
              "    background-color: #E2EBFA;\n",
              "    box-shadow: 0px 1px 2px rgba(60, 64, 67, 0.3), 0px 1px 3px 1px rgba(60, 64, 67, 0.15);\n",
              "    fill: #174EA6;\n",
              "  }\n",
              "\n",
              "  [theme=dark] .colab-df-quickchart {\n",
              "    background-color: #3B4455;\n",
              "    fill: #D2E3FC;\n",
              "  }\n",
              "\n",
              "  [theme=dark] .colab-df-quickchart:hover {\n",
              "    background-color: #434B5C;\n",
              "    box-shadow: 0px 1px 3px 1px rgba(0, 0, 0, 0.15);\n",
              "    filter: drop-shadow(0px 1px 2px rgba(0, 0, 0, 0.3));\n",
              "    fill: #FFFFFF;\n",
              "  }\n",
              "</style>\n",
              "\n",
              "  <script>\n",
              "    async function quickchart(key) {\n",
              "      const charts = await google.colab.kernel.invokeFunction(\n",
              "          'suggestCharts', [key], {});\n",
              "    }\n",
              "    (() => {\n",
              "      let quickchartButtonEl =\n",
              "        document.querySelector('#df-0314ecaf-638c-4e33-a512-c291f47ce93a button');\n",
              "      quickchartButtonEl.style.display =\n",
              "        google.colab.kernel.accessAllowed ? 'block' : 'none';\n",
              "    })();\n",
              "  </script>\n",
              "</div>\n",
              "    </div>\n",
              "  </div>\n"
            ]
          },
          "metadata": {},
          "execution_count": 41
        }
      ],
      "source": [
        "# Changes in portfolio asset values\n",
        "pf_value = df_t.dot(w_opt)\n",
        "pf_value.head()"
      ]
    },
    {
      "cell_type": "code",
      "execution_count": 42,
      "metadata": {
        "id": "QvBjxx7oLAkr",
        "outputId": "ac1f3da5-b9c6-4b6d-e1ed-4639d4074919",
        "colab": {
          "base_uri": "https://localhost:8080/"
        }
      },
      "outputs": [
        {
          "output_type": "stream",
          "name": "stdout",
          "text": [
            "               exact       HHL\n",
            "Date                          \n",
            "2023-08-11  1.244767  1.244932\n",
            "2023-08-14  1.229946  1.230071\n",
            "2023-08-16  1.221407  1.221571\n",
            "2023-08-17  1.207426  1.207612\n",
            "2023-08-18  1.209814  1.210003\n"
          ]
        }
      ],
      "source": [
        "# Since the initial amount may differ between exact and HHL, we look at returns normalized by the value at the beginning of the period.\n",
        "pf_value.exact = pf_value.exact / pf_value.exact[0]\n",
        "pf_value.HHL = pf_value.HHL / pf_value.HHL[0]\n",
        "print(pf_value.tail())"
      ]
    },
    {
      "cell_type": "code",
      "execution_count": 43,
      "metadata": {
        "id": "xG34tXXBLAkr",
        "outputId": "a06b9065-2222-4b90-ea68-f1af1d8d3b47",
        "colab": {
          "base_uri": "https://localhost:8080/",
          "height": 532
        }
      },
      "outputs": [
        {
          "output_type": "execute_result",
          "data": {
            "text/plain": [
              "<Axes: xlabel='Date'>"
            ]
          },
          "metadata": {},
          "execution_count": 43
        },
        {
          "output_type": "display_data",
          "data": {
            "text/plain": [
              "<Figure size 900x600 with 1 Axes>"
            ],
            "image/png": "[encoded data removed]"
          },
          "metadata": {}
        }
      ],
      "source": [
        "pf_value.plot(figsize=(9, 6))"
      ]
    },
    {
      "cell_type": "markdown",
      "metadata": {
        "id": "E7KCdH3mLAkr"
      },
      "source": [
        "The stocks of all GAFA companies except Amazon were soft in 2018, resulting in a loss of roughly -20%. The EXACT solution seems to be somewhat better.\n",
        "Incidentally, since what we originally did was risk minimization, we also calculated the risk for the past year, and the EXACT solution resulted in smaller risk."
      ]
    },
    {
      "cell_type": "code",
      "execution_count": 44,
      "metadata": {
        "id": "hm0QdWORLAkr",
        "outputId": "81fb8e99-b246-4a51-a0cc-01dbf1740e80",
        "colab": {
          "base_uri": "https://localhost:8080/"
        }
      },
      "outputs": [
        {
          "output_type": "execute_result",
          "data": {
            "text/plain": [
              "exact    0.259876\n",
              "HHL      0.260134\n",
              "dtype: float64"
            ]
          },
          "metadata": {},
          "execution_count": 44
        }
      ],
      "source": [
        "pf_value.pct_change().std() * np.sqrt(252) ## annualized"
      ]
    },
    {
      "cell_type": "code",
      "source": [
        "pf_value.pct_change().mean() *252"
      ],
      "metadata": {
        "colab": {
          "base_uri": "https://localhost:8080/"
        },
        "id": "ENdv5K3R3bBP",
        "outputId": "a0af08ef-79fa-43c1-f1eb-2504c943295d"
      },
      "execution_count": 45,
      "outputs": [
        {
          "output_type": "execute_result",
          "data": {
            "text/plain": [
              "exact    0.345020\n",
              "HHL      0.345341\n",
              "dtype: float64"
            ]
          },
          "metadata": {},
          "execution_count": 45
        }
      ]
    },
    {
      "cell_type": "code",
      "source": [
        "34.53/ 26.01"
      ],
      "metadata": {
        "colab": {
          "base_uri": "https://localhost:8080/"
        },
        "id": "b0-9wd9N3n7J",
        "outputId": "fedbaec4-d970-4ca3-f711-51269fdaade6"
      },
      "execution_count": 46,
      "outputs": [
        {
          "output_type": "execute_result",
          "data": {
            "text/plain": [
              "1.3275663206459054"
            ]
          },
          "metadata": {},
          "execution_count": 46
        }
      ]
    },
    {
      "cell_type": "code",
      "source": [
        "!pip install qiskit[all]"
      ],
      "metadata": {
        "colab": {
          "base_uri": "https://localhost:8080/"
        },
        "id": "fsry_fJLf3mn",
        "outputId": "b488a574-6434-4849-9a25-72aded0e2a1d"
      },
      "execution_count": 47,
      "outputs": [
        {
          "output_type": "stream",
          "name": "stdout",
          "text": [
            "Requirement already satisfied: qiskit[all] in /usr/local/lib/python3.10/dist-packages (0.44.1)\n",
            "Requirement already satisfied: qiskit-terra==0.25.1 in /usr/local/lib/python3.10/dist-packages (from qiskit[all]) (0.25.1)\n",
            "Requirement already satisfied: rustworkx>=0.13.0 in /usr/local/lib/python3.10/dist-packages (from qiskit-terra==0.25.1->qiskit[all]) (0.13.1)\n",
            "Requirement already satisfied: numpy>=1.17 in /usr/local/lib/python3.10/dist-packages (from qiskit-terra==0.25.1->qiskit[all]) (1.23.5)\n",
            "Requirement already satisfied: ply>=3.10 in /usr/local/lib/python3.10/dist-packages (from qiskit-terra==0.25.1->qiskit[all]) (3.11)\n",
            "Requirement already satisfied: psutil>=5 in /usr/local/lib/python3.10/dist-packages (from qiskit-terra==0.25.1->qiskit[all]) (5.9.5)\n",
            "Requirement already satisfied: scipy>=1.5 in /usr/local/lib/python3.10/dist-packages (from qiskit-terra==0.25.1->qiskit[all]) (1.10.1)\n",
            "Requirement already satisfied: sympy>=1.3 in /usr/local/lib/python3.10/dist-packages (from qiskit-terra==0.25.1->qiskit[all]) (1.12)\n",
            "Requirement already satisfied: dill>=0.3 in /usr/local/lib/python3.10/dist-packages (from qiskit-terra==0.25.1->qiskit[all]) (0.3.7)\n",
            "Requirement already satisfied: python-dateutil>=2.8.0 in /usr/local/lib/python3.10/dist-packages (from qiskit-terra==0.25.1->qiskit[all]) (2.8.2)\n",
            "Requirement already satisfied: stevedore>=3.0.0 in /usr/local/lib/python3.10/dist-packages (from qiskit-terra==0.25.1->qiskit[all]) (5.1.0)\n",
            "Requirement already satisfied: symengine<0.10,>=0.9 in /usr/local/lib/python3.10/dist-packages (from qiskit-terra==0.25.1->qiskit[all]) (0.9.2)\n",
            "Requirement already satisfied: typing-extensions in /usr/local/lib/python3.10/dist-packages (from qiskit-terra==0.25.1->qiskit[all]) (4.7.1)\n",
            "Requirement already satisfied: matplotlib>=3.3 in /usr/local/lib/python3.10/dist-packages (from qiskit-terra==0.25.1->qiskit[all]) (3.7.1)\n",
            "Requirement already satisfied: ipywidgets>=7.3.0 in /usr/local/lib/python3.10/dist-packages (from qiskit-terra==0.25.1->qiskit[all]) (7.7.1)\n",
            "Requirement already satisfied: pydot in /usr/local/lib/python3.10/dist-packages (from qiskit-terra==0.25.1->qiskit[all]) (1.4.2)\n",
            "Requirement already satisfied: pillow>=4.2.1 in /usr/local/lib/python3.10/dist-packages (from qiskit-terra==0.25.1->qiskit[all]) (9.4.0)\n",
            "Requirement already satisfied: pylatexenc>=1.4 in /usr/local/lib/python3.10/dist-packages (from qiskit-terra==0.25.1->qiskit[all]) (2.10)\n",
            "Requirement already satisfied: seaborn>=0.9.0 in /usr/local/lib/python3.10/dist-packages (from qiskit-terra==0.25.1->qiskit[all]) (0.12.2)\n",
            "Requirement already satisfied: pygments>=2.4 in /usr/local/lib/python3.10/dist-packages (from qiskit-terra==0.25.1->qiskit[all]) (2.16.1)\n",
            "Requirement already satisfied: z3-solver>=4.7 in /usr/local/lib/python3.10/dist-packages (from qiskit-terra==0.25.1->qiskit[all]) (4.12.2.0)\n",
            "Requirement already satisfied: python-constraint>=1.4 in /usr/local/lib/python3.10/dist-packages (from qiskit-terra==0.25.1->qiskit[all]) (1.4.0)\n",
            "Requirement already satisfied: qiskit-qasm3-import>=0.1.0 in /usr/local/lib/python3.10/dist-packages (from qiskit-terra==0.25.1->qiskit[all]) (0.2.0)\n",
            "Requirement already satisfied: ipykernel>=4.5.1 in /usr/local/lib/python3.10/dist-packages (from ipywidgets>=7.3.0->qiskit-terra==0.25.1->qiskit[all]) (5.5.6)\n",
            "Requirement already satisfied: ipython-genutils~=0.2.0 in /usr/local/lib/python3.10/dist-packages (from ipywidgets>=7.3.0->qiskit-terra==0.25.1->qiskit[all]) (0.2.0)\n",
            "Requirement already satisfied: traitlets>=4.3.1 in /usr/local/lib/python3.10/dist-packages (from ipywidgets>=7.3.0->qiskit-terra==0.25.1->qiskit[all]) (5.7.1)\n",
            "Requirement already satisfied: widgetsnbextension~=3.6.0 in /usr/local/lib/python3.10/dist-packages (from ipywidgets>=7.3.0->qiskit-terra==0.25.1->qiskit[all]) (3.6.5)\n",
            "Requirement already satisfied: ipython>=4.0.0 in /usr/local/lib/python3.10/dist-packages (from ipywidgets>=7.3.0->qiskit-terra==0.25.1->qiskit[all]) (7.34.0)\n",
            "Requirement already satisfied: jupyterlab-widgets>=1.0.0 in /usr/local/lib/python3.10/dist-packages (from ipywidgets>=7.3.0->qiskit-terra==0.25.1->qiskit[all]) (3.0.8)\n",
            "Requirement already satisfied: contourpy>=1.0.1 in /usr/local/lib/python3.10/dist-packages (from matplotlib>=3.3->qiskit-terra==0.25.1->qiskit[all]) (1.1.0)\n",
            "Requirement already satisfied: cycler>=0.10 in /usr/local/lib/python3.10/dist-packages (from matplotlib>=3.3->qiskit-terra==0.25.1->qiskit[all]) (0.11.0)\n",
            "Requirement already satisfied: fonttools>=4.22.0 in /usr/local/lib/python3.10/dist-packages (from matplotlib>=3.3->qiskit-terra==0.25.1->qiskit[all]) (4.42.0)\n",
            "Requirement already satisfied: kiwisolver>=1.0.1 in /usr/local/lib/python3.10/dist-packages (from matplotlib>=3.3->qiskit-terra==0.25.1->qiskit[all]) (1.4.4)\n",
            "Requirement already satisfied: packaging>=20.0 in /usr/local/lib/python3.10/dist-packages (from matplotlib>=3.3->qiskit-terra==0.25.1->qiskit[all]) (23.1)\n",
            "Requirement already satisfied: pyparsing>=2.3.1 in /usr/local/lib/python3.10/dist-packages (from matplotlib>=3.3->qiskit-terra==0.25.1->qiskit[all]) (3.1.1)\n",
            "Requirement already satisfied: six>=1.5 in /usr/local/lib/python3.10/dist-packages (from python-dateutil>=2.8.0->qiskit-terra==0.25.1->qiskit[all]) (1.16.0)\n",
            "Requirement already satisfied: openqasm3[parser]<0.5,>=0.4 in /usr/local/lib/python3.10/dist-packages (from qiskit-qasm3-import>=0.1.0->qiskit-terra==0.25.1->qiskit[all]) (0.4.0)\n",
            "Requirement already satisfied: pandas>=0.25 in /usr/local/lib/python3.10/dist-packages (from seaborn>=0.9.0->qiskit-terra==0.25.1->qiskit[all]) (1.5.3)\n",
            "Requirement already satisfied: pbr!=2.1.0,>=2.0.0 in /usr/local/lib/python3.10/dist-packages (from stevedore>=3.0.0->qiskit-terra==0.25.1->qiskit[all]) (5.11.1)\n",
            "Requirement already satisfied: mpmath>=0.19 in /usr/local/lib/python3.10/dist-packages (from sympy>=1.3->qiskit-terra==0.25.1->qiskit[all]) (1.3.0)\n",
            "Requirement already satisfied: jupyter-client in /usr/local/lib/python3.10/dist-packages (from ipykernel>=4.5.1->ipywidgets>=7.3.0->qiskit-terra==0.25.1->qiskit[all]) (6.1.12)\n",
            "Requirement already satisfied: tornado>=4.2 in /usr/local/lib/python3.10/dist-packages (from ipykernel>=4.5.1->ipywidgets>=7.3.0->qiskit-terra==0.25.1->qiskit[all]) (6.3.2)\n",
            "Requirement already satisfied: setuptools>=18.5 in /usr/local/lib/python3.10/dist-packages (from ipython>=4.0.0->ipywidgets>=7.3.0->qiskit-terra==0.25.1->qiskit[all]) (67.7.2)\n",
            "Requirement already satisfied: jedi>=0.16 in /usr/local/lib/python3.10/dist-packages (from ipython>=4.0.0->ipywidgets>=7.3.0->qiskit-terra==0.25.1->qiskit[all]) (0.19.0)\n",
            "Requirement already satisfied: decorator in /usr/local/lib/python3.10/dist-packages (from ipython>=4.0.0->ipywidgets>=7.3.0->qiskit-terra==0.25.1->qiskit[all]) (4.4.2)\n",
            "Requirement already satisfied: pickleshare in /usr/local/lib/python3.10/dist-packages (from ipython>=4.0.0->ipywidgets>=7.3.0->qiskit-terra==0.25.1->qiskit[all]) (0.7.5)\n",
            "Requirement already satisfied: prompt-toolkit!=3.0.0,!=3.0.1,<3.1.0,>=2.0.0 in /usr/local/lib/python3.10/dist-packages (from ipython>=4.0.0->ipywidgets>=7.3.0->qiskit-terra==0.25.1->qiskit[all]) (3.0.39)\n",
            "Requirement already satisfied: backcall in /usr/local/lib/python3.10/dist-packages (from ipython>=4.0.0->ipywidgets>=7.3.0->qiskit-terra==0.25.1->qiskit[all]) (0.2.0)\n",
            "Requirement already satisfied: matplotlib-inline in /usr/local/lib/python3.10/dist-packages (from ipython>=4.0.0->ipywidgets>=7.3.0->qiskit-terra==0.25.1->qiskit[all]) (0.1.6)\n",
            "Requirement already satisfied: pexpect>4.3 in /usr/local/lib/python3.10/dist-packages (from ipython>=4.0.0->ipywidgets>=7.3.0->qiskit-terra==0.25.1->qiskit[all]) (4.8.0)\n",
            "Requirement already satisfied: antlr4-python3-runtime<4.12,>=4.7 in /usr/local/lib/python3.10/dist-packages (from openqasm3[parser]<0.5,>=0.4->qiskit-qasm3-import>=0.1.0->qiskit-terra==0.25.1->qiskit[all]) (4.11.1)\n",
            "Requirement already satisfied: pytz>=2020.1 in /usr/local/lib/python3.10/dist-packages (from pandas>=0.25->seaborn>=0.9.0->qiskit-terra==0.25.1->qiskit[all]) (2023.3)\n",
            "Requirement already satisfied: notebook>=4.4.1 in /usr/local/lib/python3.10/dist-packages (from widgetsnbextension~=3.6.0->ipywidgets>=7.3.0->qiskit-terra==0.25.1->qiskit[all]) (6.5.5)\n",
            "Requirement already satisfied: parso<0.9.0,>=0.8.3 in /usr/local/lib/python3.10/dist-packages (from jedi>=0.16->ipython>=4.0.0->ipywidgets>=7.3.0->qiskit-terra==0.25.1->qiskit[all]) (0.8.3)\n",
            "Requirement already satisfied: jinja2 in /usr/local/lib/python3.10/dist-packages (from notebook>=4.4.1->widgetsnbextension~=3.6.0->ipywidgets>=7.3.0->qiskit-terra==0.25.1->qiskit[all]) (3.1.2)\n",
            "Requirement already satisfied: pyzmq<25,>=17 in /usr/local/lib/python3.10/dist-packages (from notebook>=4.4.1->widgetsnbextension~=3.6.0->ipywidgets>=7.3.0->qiskit-terra==0.25.1->qiskit[all]) (23.2.1)\n",
            "Requirement already satisfied: argon2-cffi in /usr/local/lib/python3.10/dist-packages (from notebook>=4.4.1->widgetsnbextension~=3.6.0->ipywidgets>=7.3.0->qiskit-terra==0.25.1->qiskit[all]) (23.1.0)\n",
            "Requirement already satisfied: jupyter-core>=4.6.1 in /usr/local/lib/python3.10/dist-packages (from notebook>=4.4.1->widgetsnbextension~=3.6.0->ipywidgets>=7.3.0->qiskit-terra==0.25.1->qiskit[all]) (5.3.1)\n",
            "Requirement already satisfied: nbformat in /usr/local/lib/python3.10/dist-packages (from notebook>=4.4.1->widgetsnbextension~=3.6.0->ipywidgets>=7.3.0->qiskit-terra==0.25.1->qiskit[all]) (5.9.2)\n",
            "Requirement already satisfied: nbconvert>=5 in /usr/local/lib/python3.10/dist-packages (from notebook>=4.4.1->widgetsnbextension~=3.6.0->ipywidgets>=7.3.0->qiskit-terra==0.25.1->qiskit[all]) (6.5.4)\n",
            "Requirement already satisfied: nest-asyncio>=1.5 in /usr/local/lib/python3.10/dist-packages (from notebook>=4.4.1->widgetsnbextension~=3.6.0->ipywidgets>=7.3.0->qiskit-terra==0.25.1->qiskit[all]) (1.5.7)\n",
            "Requirement already satisfied: Send2Trash>=1.8.0 in /usr/local/lib/python3.10/dist-packages (from notebook>=4.4.1->widgetsnbextension~=3.6.0->ipywidgets>=7.3.0->qiskit-terra==0.25.1->qiskit[all]) (1.8.2)\n",
            "Requirement already satisfied: terminado>=0.8.3 in /usr/local/lib/python3.10/dist-packages (from notebook>=4.4.1->widgetsnbextension~=3.6.0->ipywidgets>=7.3.0->qiskit-terra==0.25.1->qiskit[all]) (0.17.1)\n",
            "Requirement already satisfied: prometheus-client in /usr/local/lib/python3.10/dist-packages (from notebook>=4.4.1->widgetsnbextension~=3.6.0->ipywidgets>=7.3.0->qiskit-terra==0.25.1->qiskit[all]) (0.17.1)\n",
            "Requirement already satisfied: nbclassic>=0.4.7 in /usr/local/lib/python3.10/dist-packages (from notebook>=4.4.1->widgetsnbextension~=3.6.0->ipywidgets>=7.3.0->qiskit-terra==0.25.1->qiskit[all]) (1.0.0)\n",
            "Requirement already satisfied: ptyprocess>=0.5 in /usr/local/lib/python3.10/dist-packages (from pexpect>4.3->ipython>=4.0.0->ipywidgets>=7.3.0->qiskit-terra==0.25.1->qiskit[all]) (0.7.0)\n",
            "Requirement already satisfied: wcwidth in /usr/local/lib/python3.10/dist-packages (from prompt-toolkit!=3.0.0,!=3.0.1,<3.1.0,>=2.0.0->ipython>=4.0.0->ipywidgets>=7.3.0->qiskit-terra==0.25.1->qiskit[all]) (0.2.6)\n",
            "Requirement already satisfied: platformdirs>=2.5 in /usr/local/lib/python3.10/dist-packages (from jupyter-core>=4.6.1->notebook>=4.4.1->widgetsnbextension~=3.6.0->ipywidgets>=7.3.0->qiskit-terra==0.25.1->qiskit[all]) (3.10.0)\n",
            "Requirement already satisfied: jupyter-server>=1.8 in /usr/local/lib/python3.10/dist-packages (from nbclassic>=0.4.7->notebook>=4.4.1->widgetsnbextension~=3.6.0->ipywidgets>=7.3.0->qiskit-terra==0.25.1->qiskit[all]) (1.24.0)\n",
            "Requirement already satisfied: notebook-shim>=0.2.3 in /usr/local/lib/python3.10/dist-packages (from nbclassic>=0.4.7->notebook>=4.4.1->widgetsnbextension~=3.6.0->ipywidgets>=7.3.0->qiskit-terra==0.25.1->qiskit[all]) (0.2.3)\n",
            "Requirement already satisfied: lxml in /usr/local/lib/python3.10/dist-packages (from nbconvert>=5->notebook>=4.4.1->widgetsnbextension~=3.6.0->ipywidgets>=7.3.0->qiskit-terra==0.25.1->qiskit[all]) (4.9.3)\n",
            "Requirement already satisfied: beautifulsoup4 in /usr/local/lib/python3.10/dist-packages (from nbconvert>=5->notebook>=4.4.1->widgetsnbextension~=3.6.0->ipywidgets>=7.3.0->qiskit-terra==0.25.1->qiskit[all]) (4.11.2)\n",
            "Requirement already satisfied: bleach in /usr/local/lib/python3.10/dist-packages (from nbconvert>=5->notebook>=4.4.1->widgetsnbextension~=3.6.0->ipywidgets>=7.3.0->qiskit-terra==0.25.1->qiskit[all]) (6.0.0)\n",
            "Requirement already satisfied: defusedxml in /usr/local/lib/python3.10/dist-packages (from nbconvert>=5->notebook>=4.4.1->widgetsnbextension~=3.6.0->ipywidgets>=7.3.0->qiskit-terra==0.25.1->qiskit[all]) (0.7.1)\n",
            "Requirement already satisfied: entrypoints>=0.2.2 in /usr/local/lib/python3.10/dist-packages (from nbconvert>=5->notebook>=4.4.1->widgetsnbextension~=3.6.0->ipywidgets>=7.3.0->qiskit-terra==0.25.1->qiskit[all]) (0.4)\n",
            "Requirement already satisfied: jupyterlab-pygments in /usr/local/lib/python3.10/dist-packages (from nbconvert>=5->notebook>=4.4.1->widgetsnbextension~=3.6.0->ipywidgets>=7.3.0->qiskit-terra==0.25.1->qiskit[all]) (0.2.2)\n",
            "Requirement already satisfied: MarkupSafe>=2.0 in /usr/local/lib/python3.10/dist-packages (from nbconvert>=5->notebook>=4.4.1->widgetsnbextension~=3.6.0->ipywidgets>=7.3.0->qiskit-terra==0.25.1->qiskit[all]) (2.1.3)\n",
            "Requirement already satisfied: mistune<2,>=0.8.1 in /usr/local/lib/python3.10/dist-packages (from nbconvert>=5->notebook>=4.4.1->widgetsnbextension~=3.6.0->ipywidgets>=7.3.0->qiskit-terra==0.25.1->qiskit[all]) (0.8.4)\n",
            "Requirement already satisfied: nbclient>=0.5.0 in /usr/local/lib/python3.10/dist-packages (from nbconvert>=5->notebook>=4.4.1->widgetsnbextension~=3.6.0->ipywidgets>=7.3.0->qiskit-terra==0.25.1->qiskit[all]) (0.8.0)\n",
            "Requirement already satisfied: pandocfilters>=1.4.1 in /usr/local/lib/python3.10/dist-packages (from nbconvert>=5->notebook>=4.4.1->widgetsnbextension~=3.6.0->ipywidgets>=7.3.0->qiskit-terra==0.25.1->qiskit[all]) (1.5.0)\n",
            "Requirement already satisfied: tinycss2 in /usr/local/lib/python3.10/dist-packages (from nbconvert>=5->notebook>=4.4.1->widgetsnbextension~=3.6.0->ipywidgets>=7.3.0->qiskit-terra==0.25.1->qiskit[all]) (1.2.1)\n",
            "Requirement already satisfied: fastjsonschema in /usr/local/lib/python3.10/dist-packages (from nbformat->notebook>=4.4.1->widgetsnbextension~=3.6.0->ipywidgets>=7.3.0->qiskit-terra==0.25.1->qiskit[all]) (2.18.0)\n",
            "Requirement already satisfied: jsonschema>=2.6 in /usr/local/lib/python3.10/dist-packages (from nbformat->notebook>=4.4.1->widgetsnbextension~=3.6.0->ipywidgets>=7.3.0->qiskit-terra==0.25.1->qiskit[all]) (4.19.0)\n",
            "Requirement already satisfied: argon2-cffi-bindings in /usr/local/lib/python3.10/dist-packages (from argon2-cffi->notebook>=4.4.1->widgetsnbextension~=3.6.0->ipywidgets>=7.3.0->qiskit-terra==0.25.1->qiskit[all]) (21.2.0)\n",
            "Requirement already satisfied: attrs>=22.2.0 in /usr/local/lib/python3.10/dist-packages (from jsonschema>=2.6->nbformat->notebook>=4.4.1->widgetsnbextension~=3.6.0->ipywidgets>=7.3.0->qiskit-terra==0.25.1->qiskit[all]) (23.1.0)\n",
            "Requirement already satisfied: jsonschema-specifications>=2023.03.6 in /usr/local/lib/python3.10/dist-packages (from jsonschema>=2.6->nbformat->notebook>=4.4.1->widgetsnbextension~=3.6.0->ipywidgets>=7.3.0->qiskit-terra==0.25.1->qiskit[all]) (2023.7.1)\n",
            "Requirement already satisfied: referencing>=0.28.4 in /usr/local/lib/python3.10/dist-packages (from jsonschema>=2.6->nbformat->notebook>=4.4.1->widgetsnbextension~=3.6.0->ipywidgets>=7.3.0->qiskit-terra==0.25.1->qiskit[all]) (0.30.2)\n",
            "Requirement already satisfied: rpds-py>=0.7.1 in /usr/local/lib/python3.10/dist-packages (from jsonschema>=2.6->nbformat->notebook>=4.4.1->widgetsnbextension~=3.6.0->ipywidgets>=7.3.0->qiskit-terra==0.25.1->qiskit[all]) (0.9.2)\n",
            "Requirement already satisfied: anyio<4,>=3.1.0 in /usr/local/lib/python3.10/dist-packages (from jupyter-server>=1.8->nbclassic>=0.4.7->notebook>=4.4.1->widgetsnbextension~=3.6.0->ipywidgets>=7.3.0->qiskit-terra==0.25.1->qiskit[all]) (3.7.1)\n",
            "Requirement already satisfied: websocket-client in /usr/local/lib/python3.10/dist-packages (from jupyter-server>=1.8->nbclassic>=0.4.7->notebook>=4.4.1->widgetsnbextension~=3.6.0->ipywidgets>=7.3.0->qiskit-terra==0.25.1->qiskit[all]) (1.6.1)\n",
            "Requirement already satisfied: cffi>=1.0.1 in /usr/local/lib/python3.10/dist-packages (from argon2-cffi-bindings->argon2-cffi->notebook>=4.4.1->widgetsnbextension~=3.6.0->ipywidgets>=7.3.0->qiskit-terra==0.25.1->qiskit[all]) (1.15.1)\n",
            "Requirement already satisfied: soupsieve>1.2 in /usr/local/lib/python3.10/dist-packages (from beautifulsoup4->nbconvert>=5->notebook>=4.4.1->widgetsnbextension~=3.6.0->ipywidgets>=7.3.0->qiskit-terra==0.25.1->qiskit[all]) (2.4.1)\n",
            "Requirement already satisfied: webencodings in /usr/local/lib/python3.10/dist-packages (from bleach->nbconvert>=5->notebook>=4.4.1->widgetsnbextension~=3.6.0->ipywidgets>=7.3.0->qiskit-terra==0.25.1->qiskit[all]) (0.5.1)\n",
            "Requirement already satisfied: idna>=2.8 in /usr/local/lib/python3.10/dist-packages (from anyio<4,>=3.1.0->jupyter-server>=1.8->nbclassic>=0.4.7->notebook>=4.4.1->widgetsnbextension~=3.6.0->ipywidgets>=7.3.0->qiskit-terra==0.25.1->qiskit[all]) (3.4)\n",
            "Requirement already satisfied: sniffio>=1.1 in /usr/local/lib/python3.10/dist-packages (from anyio<4,>=3.1.0->jupyter-server>=1.8->nbclassic>=0.4.7->notebook>=4.4.1->widgetsnbextension~=3.6.0->ipywidgets>=7.3.0->qiskit-terra==0.25.1->qiskit[all]) (1.3.0)\n",
            "Requirement already satisfied: exceptiongroup in /usr/local/lib/python3.10/dist-packages (from anyio<4,>=3.1.0->jupyter-server>=1.8->nbclassic>=0.4.7->notebook>=4.4.1->widgetsnbextension~=3.6.0->ipywidgets>=7.3.0->qiskit-terra==0.25.1->qiskit[all]) (1.1.3)\n",
            "Requirement already satisfied: pycparser in /usr/local/lib/python3.10/dist-packages (from cffi>=1.0.1->argon2-cffi-bindings->argon2-cffi->notebook>=4.4.1->widgetsnbextension~=3.6.0->ipywidgets>=7.3.0->qiskit-terra==0.25.1->qiskit[all]) (2.21)\n"
          ]
        }
      ]
    },
    {
      "cell_type": "code",
      "source": [
        "import numpy as np\n",
        "from qiskit import QuantumCircuit\n",
        "from qiskit.algorithms.linear_solvers.hhl import HHL\n",
        "from qiskit.algorithms.linear_solvers.matrices import TridiagonalToeplitz\n",
        "from qiskit.algorithms.linear_solvers.observables import MatrixFunctional\n",
        "\n",
        "matrix = TridiagonalToeplitz(2, 1, 1 / 3, trotter_steps=2)\n",
        "right_hand_side = [1.0, -2.1, 3.2, -4.3]\n",
        "observable = MatrixFunctional(1, 1 / 2)\n",
        "rhs = right_hand_side / np.linalg.norm(right_hand_side)\n",
        "\n",
        "# Initial state circuit\n",
        "num_qubits = matrix.num_state_qubits\n",
        "qc = QuantumCircuit(num_qubits)\n",
        "qc.isometry(rhs, list(range(num_qubits)), None)\n",
        "\n",
        "hhl = HHL()\n",
        "solution = hhl.solve(matrix, qc, observable)\n",
        "approx_result = solution.observable"
      ],
      "metadata": {
        "colab": {
          "base_uri": "https://localhost:8080/",
          "height": 383
        },
        "id": "RkOc3HG4f3pZ",
        "outputId": "120df63a-9bce-446f-a848-fa3f6bcd7510"
      },
      "execution_count": 48,
      "outputs": [
        {
          "output_type": "error",
          "ename": "ModuleNotFoundError",
          "evalue": "ignored",
          "traceback": [
            "\u001b[0;31m---------------------------------------------------------------------------\u001b[0m",
            "\u001b[0;31mModuleNotFoundError\u001b[0m                       Traceback (most recent call last)",
            "\u001b[0;32m<ipython-input-48-799dfe8dc2fd>\u001b[0m in \u001b[0;36m<cell line: 3>\u001b[0;34m()\u001b[0m\n\u001b[1;32m      1\u001b[0m \u001b[0;32mimport\u001b[0m \u001b[0mnumpy\u001b[0m \u001b[0;32mas\u001b[0m \u001b[0mnp\u001b[0m\u001b[0;34m\u001b[0m\u001b[0;34m\u001b[0m\u001b[0m\n\u001b[1;32m      2\u001b[0m \u001b[0;32mfrom\u001b[0m \u001b[0mqiskit\u001b[0m \u001b[0;32mimport\u001b[0m \u001b[0mQuantumCircuit\u001b[0m\u001b[0;34m\u001b[0m\u001b[0;34m\u001b[0m\u001b[0m\n\u001b[0;32m----> 3\u001b[0;31m \u001b[0;32mfrom\u001b[0m \u001b[0mqiskit\u001b[0m\u001b[0;34m.\u001b[0m\u001b[0malgorithms\u001b[0m\u001b[0;34m.\u001b[0m\u001b[0mlinear_solvers\u001b[0m\u001b[0;34m.\u001b[0m\u001b[0mhhl\u001b[0m \u001b[0;32mimport\u001b[0m \u001b[0mHHL\u001b[0m\u001b[0;34m\u001b[0m\u001b[0;34m\u001b[0m\u001b[0m\n\u001b[0m\u001b[1;32m      4\u001b[0m \u001b[0;32mfrom\u001b[0m \u001b[0mqiskit\u001b[0m\u001b[0;34m.\u001b[0m\u001b[0malgorithms\u001b[0m\u001b[0;34m.\u001b[0m\u001b[0mlinear_solvers\u001b[0m\u001b[0;34m.\u001b[0m\u001b[0mmatrices\u001b[0m \u001b[0;32mimport\u001b[0m \u001b[0mTridiagonalToeplitz\u001b[0m\u001b[0;34m\u001b[0m\u001b[0;34m\u001b[0m\u001b[0m\n\u001b[1;32m      5\u001b[0m \u001b[0;32mfrom\u001b[0m \u001b[0mqiskit\u001b[0m\u001b[0;34m.\u001b[0m\u001b[0malgorithms\u001b[0m\u001b[0;34m.\u001b[0m\u001b[0mlinear_solvers\u001b[0m\u001b[0;34m.\u001b[0m\u001b[0mobservables\u001b[0m \u001b[0;32mimport\u001b[0m \u001b[0mMatrixFunctional\u001b[0m\u001b[0;34m\u001b[0m\u001b[0;34m\u001b[0m\u001b[0m\n",
            "\u001b[0;31mModuleNotFoundError\u001b[0m: No module named 'qiskit.algorithms.linear_solvers'",
            "",
            "\u001b[0;31m---------------------------------------------------------------------------\u001b[0;32m\nNOTE: If your import is failing due to a missing package, you can\nmanually install dependencies using either !pip or !apt.\n\nTo view examples of installing some common dependencies, click the\n\"Open Examples\" button below.\n\u001b[0;31m---------------------------------------------------------------------------\u001b[0m\n"
          ],
          "errorDetails": {
            "actions": [
              {
                "action": "open_url",
                "actionText": "Open Examples",
                "url": "/notebooks/snippets/importing_libraries.ipynb"
              }
            ]
          }
        }
      ]
    },
    {
      "cell_type": "markdown",
      "metadata": {
        "id": "IMjabrv5LAkx"
      },
      "source": [
        "/## Reference\n",
        "[1] P. Rebentrost and S. Lloyd, “Quantum computational finance: quantum algorithm for portfolio optimization“, https://arxiv.org/abs/1811.03975"
      ]
    },
    {
      "cell_type": "markdown",
      "source": [],
      "metadata": {
        "id": "frb12COmiFNv"
      }
    },
    {
      "cell_type": "markdown",
      "source": [],
      "metadata": {
        "id": "wPro3iybiF_s"
      }
    },
    {
      "cell_type": "markdown",
      "source": [],
      "metadata": {
        "id": "4Mckj0cKiGDT"
      }
    },
    {
      "cell_type": "code",
      "source": [
        "!pip install git+https://github.com/anedumla/quantum_linear_solvers\n"
      ],
      "metadata": {
        "id": "fNv3koz7iGpv"
      },
      "execution_count": null,
      "outputs": []
    },
    {
      "cell_type": "markdown",
      "metadata": {
        "id": "ATwOwfGnLAkx"
      },
      "source": []
    },
    {
      "cell_type": "code",
      "source": [
        "import numpy as np\n",
        "from linear_solvers import NumPyLinearSolver, HHL\n",
        "matrix = np.array([ [1, -1/3], [-1/3, 1] ])\n",
        "vector = np.array([1, 0])\n",
        "naive_hhl_solution = HHL().solve(matrix, vector)\n",
        "print(naive_hhl_solution)"
      ],
      "metadata": {
        "id": "EDHJZiL9iOY0"
      },
      "execution_count": null,
      "outputs": []
    },
    {
      "cell_type": "code",
      "source": [],
      "metadata": {
        "id": "PPThiHTUiOjX"
      },
      "execution_count": null,
      "outputs": []
    },
    {
      "cell_type": "code",
      "source": [
        "classical_solution = NumPyLinearSolver().solve(matrix,\n",
        "                                               vector/np.linalg.norm(vector))\n",
        "print(classical_solution)"
      ],
      "metadata": {
        "id": "8SN3uMjYiOmN"
      },
      "execution_count": null,
      "outputs": []
    },
    {
      "cell_type": "code",
      "source": [
        "from linear_solvers.matrices.tridiagonal_toeplitz import TridiagonalToeplitz\n",
        "tridi_matrix = TridiagonalToeplitz(1, 1, -1 / 3)\n",
        "tridi_solution = HHL().solve(tridi_matrix, vector)\n",
        "tridi_solution"
      ],
      "metadata": {
        "id": "DLTJq8V-iqDa"
      },
      "execution_count": null,
      "outputs": []
    },
    {
      "cell_type": "code",
      "source": [
        "from qiskit.quantum_info import Statevector\n",
        "\n",
        "naive_sv = Statevector(naive_hhl_solution.state).data\n",
        "tridi_sv = Statevector(tridi_solution.state).data\n",
        "\n",
        "# Extract vector components; 10000(bin) == 16 & 10001(bin) == 17\n",
        "naive_full_vector = np.array([naive_sv[16], naive_sv[17] ])\n",
        "tridi_full_vector = np.array([tridi_sv[16], tridi_sv[17] ])\n",
        "\n",
        "print('naive raw solution vector:', naive_full_vector)\n",
        "print('tridi raw solution vector:', tridi_full_vector)"
      ],
      "metadata": {
        "id": "B7mdQ4vxi3w6"
      },
      "execution_count": null,
      "outputs": []
    },
    {
      "cell_type": "code",
      "source": [
        "def get_solution_vector(solution):\n",
        "    \"\"\"Extracts and normalizes simulated state vector\n",
        "    from LinearSolverResult.\"\"\"\n",
        "    print(\"solution is\", solution)\n",
        "    solution_vector = Statevector(solution.state).data[16:18].real\n",
        "    print(\"solution vector\", solution_vector)\n",
        "    norm = solution.euclidean_norm\n",
        "    print(\"norm is\", norm)\n",
        "    return norm * solution_vector / np.linalg.norm(solution_vector)\n",
        "\n",
        "print('full naive solution vector:', get_solution_vector(naive_hhl_solution))\n",
        "print('full tridi solution vector:', get_solution_vector(tridi_solution))\n",
        "print('classical state:', classical_solution.state)"
      ],
      "metadata": {
        "id": "rWMTogG1icvB"
      },
      "execution_count": null,
      "outputs": []
    },
    {
      "cell_type": "code",
      "source": [],
      "metadata": {
        "id": "isMVqHpiizMd"
      },
      "execution_count": null,
      "outputs": []
    }
  ],
  "metadata": {
    "kernelspec": {
      "display_name": "sample_env",
      "language": "python",
      "name": "python3"
    },
    "language_info": {
      "codemirror_mode": {
        "name": "ipython",
        "version": 3
      },
      "file_extension": ".py",
      "mimetype": "text/x-python",
      "name": "python",
      "nbconvert_exporter": "python",
      "pygments_lexer": "ipython3",
      "version": "3.9.15 | packaged by conda-forge | (main, Nov 22 2022, 08:48:25) \n[Clang 14.0.6 ]"
    },
    "varInspector": {
      "cols": {
        "lenName": 16,
        "lenType": 16,
        "lenVar": 40
      },
      "kernels_config": {
        "python": {
          "delete_cmd_postfix": "",
          "delete_cmd_prefix": "del ",
          "library": "var_list.py",
          "varRefreshCmd": "print(var_dic_list())"
        },
        "r": {
          "delete_cmd_postfix": ") ",
          "delete_cmd_prefix": "rm(",
          "library": "var_list.r",
          "varRefreshCmd": "cat(var_dic_list()) "
        }
      },
      "types_to_exclude": [
        "module",
        "function",
        "builtin_function_or_method",
        "instance",
        "_Feature"
      ],
      "window_display": false
    },
    "vscode": {
      "interpreter": {
        "hash": "aba3de3b8dbe48b5e4e51e098a04a30a0927795f9567e6bf7f68774a73528d2f"
      }
    },
    "colab": {
      "provenance": [],
      "include_colab_link": true
    }
  },
  "nbformat": 4,
  "nbformat_minor": 0
}